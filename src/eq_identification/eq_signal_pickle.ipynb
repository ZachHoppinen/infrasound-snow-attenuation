{
 "cells": [
  {
   "cell_type": "code",
   "execution_count": 7,
   "metadata": {},
   "outputs": [],
   "source": [
    "import pandas as pd\n",
    "import geopandas as gpd\n",
    "import numpy as np\n",
    "import matplotlib.pyplot as plt\n",
    "from os.path import join, basename\n",
    "import pickle\n",
    "from scipy.stats import pearsonr\n",
    "from scipy.signal import periodogram, filtfilt, spectrogram, welch\n",
    "import seaborn as sns\n",
    "from tqdm import tqdm\n",
    "\n",
    "from filtering import freq_filt\n",
    "\n",
    "banner_coords = (44.3, -115.233)\n",
    "res = pd.read_csv('/bsuscratch/zacharykeskinen/data/infrasound/eq_catalog/selected_v3.csv')\n",
    "from shapely import wkt\n",
    "res['geometry'] = res['geometry'].apply(wkt.loads)\n",
    "gdf = gpd.GeoDataFrame(res, geometry = 'geometry', crs = 'EPSG:4326')\n",
    "\n",
    "result_dir = '/bsuscratch/zacharykeskinen/data/infrasound/psd_results'\n",
    "data_dir = '/bsuscratch/zacharykeskinen/data/infrasound/array_data'\n",
    "with open(join(data_dir, 'merged/all_days'), 'rb') as f:\n",
    "    days = pickle.load(f)\n",
    "sps = 200"
   ]
  },
  {
   "cell_type": "code",
   "execution_count": 18,
   "metadata": {},
   "outputs": [
    {
     "name": "stderr",
     "output_type": "stream",
     "text": [
      "  5%|▌         | 2/38 [00:12<03:34,  5.96s/it]"
     ]
    },
    {
     "name": "stdout",
     "output_type": "stream",
     "text": [
      "2022-03-20\n",
      "The length of the input vector x must be greater than padlen, which is 9.\n"
     ]
    },
    {
     "name": "stderr",
     "output_type": "stream",
     "text": [
      "100%|██████████| 38/38 [06:39<00:00, 10.52s/it]\n"
     ]
    }
   ],
   "source": [
    "n = 0\n",
    "avg_Pxx = np.array([])\n",
    "all_psds = {}\n",
    "for i, r in tqdm(res[res.analyze == 1].iterrows(), total = len(res[res.analyze == 1])):\n",
    "    if i == i:\n",
    "        dt = pd.to_datetime(r.time).strftime('%Y-%m-%d')\n",
    "        day = days[dt]\n",
    "        sig = {}\n",
    "        s = pd.to_datetime(r.time)\n",
    "        e = s + pd.Timedelta('7 second')\n",
    "        try:\n",
    "            if 0.33 in day.keys() and 1.33 in day.keys() and day['snotel']['Snow Depth (cm) Start of Day Values'] > 133:\n",
    "                for name, fp in day.items():\n",
    "                    if name != 'snotel':\n",
    "                        series = pd.read_parquet(fp)[s:e]\n",
    "                        arr = freq_filt(series.values.ravel(), 1, kind = 'highpass')\n",
    "                        arr = arr[:7*200]\n",
    "                        # f, Pxx = welch(arr, sps, scaling = 'density', window = 'hann')\n",
    "                        # Pxx = filtfilt([1,1,1,1,1],5, Pxx)\n",
    "                        sig[name] = arr\n",
    "                df = pd.DataFrame(sig)\n",
    "                indx = series.index[:7*200]\n",
    "                df.index = indx\n",
    "                if avg_Pxx.size == 0:\n",
    "                    avg_Pxx = df\n",
    "                else:\n",
    "                    avg_Pxx = avg_Pxx + df\n",
    "                    n +=1\n",
    "                all_psds[r.time] = df\n",
    "        except ValueError as e:\n",
    "            print(dt)\n",
    "            print(e)\n",
    "\n",
    "with open(join(result_dir, 'eq_sigs.pkl'), 'wb') as f:\n",
    "    pickle.dump(all_psds, f)"
   ]
  }
 ],
 "metadata": {
  "kernelspec": {
   "display_name": "Python 3.9.13 ('infra')",
   "language": "python",
   "name": "python3"
  },
  "language_info": {
   "codemirror_mode": {
    "name": "ipython",
    "version": 3
   },
   "file_extension": ".py",
   "mimetype": "text/x-python",
   "name": "python",
   "nbconvert_exporter": "python",
   "pygments_lexer": "ipython3",
   "version": "3.9.13"
  },
  "orig_nbformat": 4,
  "vscode": {
   "interpreter": {
    "hash": "a39a8a2e91d996c3034102a2bac5234ac4ff588e560acca73942b7dd55035c15"
   }
  }
 },
 "nbformat": 4,
 "nbformat_minor": 2
}
