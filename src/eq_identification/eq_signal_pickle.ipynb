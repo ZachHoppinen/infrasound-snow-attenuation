{
 "cells": [
  {
   "cell_type": "code",
   "execution_count": null,
   "metadata": {},
   "outputs": [],
   "source": [
    "import pandas as pd\n",
    "import geopandas as gpd\n",
    "import numpy as np\n",
    "import matplotlib.pyplot as plt\n",
    "from os.path import join, basename\n",
    "import pickle\n",
    "from scipy.stats import pearsonr\n",
    "from scipy.signal import periodogram, filtfilt, spectrogram, welch\n",
    "import seaborn as sns\n",
    "\n",
    "from filtering import freq_filt\n",
    "\n",
    "banner_coords = (44.3, -115.233)\n",
    "res = pd.read_csv('/bsuscratch/zacharykeskinen/data/infrasound/eq_catalog/selected_v3.csv')\n",
    "from shapely import wkt\n",
    "res['geometry'] = res['geometry'].apply(wkt.loads)\n",
    "gdf = gpd.GeoDataFrame(res, geometry = 'geometry', crs = 'EPSG:4326')\n",
    "\n",
    "result_dir = '/bsuscratch/zacharykeskinen/data/infrasound/psd_results'\n",
    "data_dir = '/bsuscratch/zacharykeskinen/data/infrasound/array_data'\n",
    "with open(join(data_dir, 'merged/all_days'), 'rb') as f:\n",
    "    days = pickle.load(f)\n",
    "sps = 200"
   ]
  },
  {
   "cell_type": "code",
   "execution_count": null,
   "metadata": {},
   "outputs": [],
   "source": [
    "n = 0\n",
    "avg_Pxx = np.array([])\n",
    "all_psds = {}\n",
    "for i, r in res[res.analyze == 1].iterrows():\n",
    "    if i == i:\n",
    "        dt = pd.to_datetime(r.time).strftime('%Y-%m-%d')\n",
    "        day = days[dt]\n",
    "        sig = {}\n",
    "        s = pd.to_datetime(r.time)\n",
    "        e = s + pd.Timedelta('7 second')\n",
    "        try:\n",
    "            if 0.33 in day.keys() and 1.33 in day.keys() and day['snotel']['Snow Depth (cm) Start of Day Values'] > 133:\n",
    "                for name, fp in day.items():\n",
    "                    if name != 'snotel':\n",
    "                        arr = freq_filt(pd.read_parquet(fp)[s:e].values.ravel(), 1, kind = 'highpass')\n",
    "                        arr = arr[:7*200]\n",
    "                        f, Pxx = welch(arr, sps, scaling = 'density', window = 'hann')\n",
    "                        # Pxx = filtfilt([1,1,1,1,1],5, Pxx)\n",
    "                        sig[name] = Pxx\n",
    "                df = pd.DataFrame(sig)\n",
    "                df.index = f\n",
    "                if avg_Pxx.size == 0:\n",
    "                    avg_Pxx = df\n",
    "                else:\n",
    "                    avg_Pxx = avg_Pxx + df\n",
    "                    n +=1\n",
    "                all_psds[r.time] = df\n",
    "        except ValueError as e:\n",
    "            print(dt)\n",
    "            print(e)\n",
    "\n",
    "avg_Pxx = avg_Pxx/n\n",
    "\n",
    "with open(join(result_dir, 'all_welchs.pkl'), 'wb') as f:\n",
    "    pickle.dump(all_psds, f)"
   ]
  }
 ],
 "metadata": {
  "language_info": {
   "name": "python"
  },
  "orig_nbformat": 4
 },
 "nbformat": 4,
 "nbformat_minor": 2
}
