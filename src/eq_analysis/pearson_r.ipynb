{
 "cells": [
  {
   "cell_type": "code",
   "execution_count": 178,
   "metadata": {},
   "outputs": [],
   "source": [
    "import pandas as pd\n",
    "import geopandas as gpd\n",
    "import numpy as np\n",
    "import matplotlib.pyplot as plt\n",
    "from os.path import join, basename\n",
    "import pickle\n",
    "from scipy.stats import pearsonr\n",
    "from scipy.signal import periodogram, filtfilt\n",
    "import seaborn as sns\n",
    "\n",
    "from filtering import freq_filt"
   ]
  },
  {
   "cell_type": "code",
   "execution_count": 146,
   "metadata": {},
   "outputs": [],
   "source": [
    "banner_coords = (44.3, -115.233)\n",
    "res = pd.read_csv('/bsuscratch/zacharykeskinen/data/infrasound/eq_catalog/selected_v2.csv')\n",
    "from shapely import wkt\n",
    "res['geometry'] = res['geometry'].apply(wkt.loads)\n",
    "gdf = gpd.GeoDataFrame(res, geometry = 'geometry', crs = 'EPSG:4326')\n",
    "\n",
    "data_dir = '/bsuscratch/zacharykeskinen/data/infrasound/array_data'\n",
    "with open(join(data_dir, 'merged/all_days'), 'rb') as f:\n",
    "    days = pickle.load(f)\n",
    "sps = 200"
   ]
  },
  {
   "cell_type": "code",
   "execution_count": 150,
   "metadata": {},
   "outputs": [
    {
     "name": "stdout",
     "output_type": "stream",
     "text": [
      "2022-03-20\n",
      "The length of the input vector x must be greater than padlen, which is 9.\n"
     ]
    }
   ],
   "source": [
    "n = 0\n",
    "corr = pd.DataFrame()\n",
    "for i, r in res[res.selected == 1].iterrows():\n",
    "    dt = pd.to_datetime(r.time).strftime('%Y-%m-%d')\n",
    "    day = days[dt]\n",
    "    sig = {}\n",
    "    s = pd.to_datetime(r.time)# + pd.Timedelta('4 second')\n",
    "    e = s + pd.Timedelta('10 second')\n",
    "    try:\n",
    "        if 0.33 in day.keys() and 1.33 in day.keys() and day['snotel']['Snow Depth (cm) Start of Day Values'] > 133:\n",
    "            for name, fp in day.items():\n",
    "                if name != 'snotel':\n",
    "                    sig[name] = freq_filt(pd.read_parquet(fp)[s:e].values.ravel(), 1, kind = 'highpass')\n",
    "            df = pd.DataFrame(sig)\n",
    "            df_corr = df.corr()\n",
    "            if np.all(np.isnan(df_corr) == False):\n",
    "                if corr.size == 0:\n",
    "                    corr = df_corr\n",
    "                else: \n",
    "                    corr += df_corr\n",
    "                n += 1\n",
    "            else:\n",
    "                print(df_corr)\n",
    "    except ValueError as e:\n",
    "        print(dt)\n",
    "        print(e)\n",
    "corr /= n"
   ]
  },
  {
   "cell_type": "code",
   "execution_count": 156,
   "metadata": {},
   "outputs": [
    {
     "data": {
      "text/plain": [
       "Text(0.5, 1.0, 'Mean Correlation Between Sensors')"
      ]
     },
     "execution_count": 156,
     "metadata": {},
     "output_type": "execute_result"
    },
    {
     "data": {
      "image/png": "[encoded data removed]",
      "text/plain": [
       "<Figure size 792x648 with 2 Axes>"
      ]
     },
     "metadata": {
      "needs_background": "light"
     },
     "output_type": "display_data"
    }
   ],
   "source": [
    "# Generate a mask for the upper triangle\n",
    "mask = np.triu(np.ones_like(corr, dtype=bool))\n",
    "\n",
    "# Set up the matplotlib figure\n",
    "f, ax = plt.subplots(figsize=(11, 9))\n",
    "\n",
    "# Generate a custom diverging colormap\n",
    "cmap = sns.diverging_palette(230, 20, as_cmap=True)\n",
    "\n",
    "# Draw the heatmap with the mask and correct aspect ratio\n",
    "sns.heatmap(corr, mask=mask, cmap=cmap, vmax=.5, center=.02,\n",
    "            square=True, linewidths=.5, cbar_kws={\"shrink\": .5})\n",
    "plt.title('Mean Correlation Between Sensors')"
   ]
  },
  {
   "cell_type": "code",
   "execution_count": null,
   "metadata": {},
   "outputs": [],
   "source": []
  }
 ],
 "metadata": {
  "kernelspec": {
   "display_name": "Python 3.9.13 ('infra')",
   "language": "python",
   "name": "python3"
  },
  "language_info": {
   "codemirror_mode": {
    "name": "ipython",
    "version": 3
   },
   "file_extension": ".py",
   "mimetype": "text/x-python",
   "name": "python",
   "nbconvert_exporter": "python",
   "pygments_lexer": "ipython3",
   "version": "3.9.13"
  },
  "orig_nbformat": 4,
  "vscode": {
   "interpreter": {
    "hash": "a39a8a2e91d996c3034102a2bac5234ac4ff588e560acca73942b7dd55035c15"
   }
  }
 },
 "nbformat": 4,
 "nbformat_minor": 2
}
