{
 "cells": [
  {
   "cell_type": "code",
   "execution_count": 2,
   "metadata": {},
   "outputs": [],
   "source": [
    "import numpy as np\n",
    "import pandas as pd\n",
    "%matplotlib inline\n",
    "import matplotlib.pyplot as plt\n",
    "from os.path import join, basename,exists\n",
    "from glob import glob\n",
    "from tqdm import tqdm\n",
    "from infrasound import *\n",
    "\n",
    "from obspy import read\n",
    "from scipy.signal import correlate, correlation_lags, butter, filtfilt, spectrogram\n",
    "from numpy.fft import fft, fftfreq, ifft, fftshift\n",
    "from sklearn.preprocessing import minmax_scale\n",
    "from datetime import timedelta\n",
    "\n",
    "ac_calib = 8.2928e-05\n",
    "name_dic = {'be4':'lower','a3m':'upper','ad8':'failed array'}\n",
    "height_dic = {'lower-p0':0.33,'lower-p1':0.66,'lower-p2':1,'upper-p0':1.33,'upper-p1':np.nan,'upper-p2':2}\n",
    "\n",
    "in_dir = '/home/zacharykeskinen/data/infrasound/infrasound/processed' #infrasound/banner/infrasound/processed/'\n",
    "in_dir = '../../data/banner/infrasound/processed'\n",
    "exists(in_dir)\n",
    "\n",
    "\n",
    "# l = os.listdir(in_dir)\n",
    "l = glob(os.path.join(in_dir, 'c0be4*'))\n",
    "r = []\n",
    "for i in l:\n",
    "    i = os.path.basename(i)\n",
    "    j = i[5:11]\n",
    "    if j not in r:\n",
    "        r.append(j)\n",
    "r.sort()\n",
    "\n",
    "wx_dir = '../../data/banner/wx/'\n",
    "wx_fs = glob(join(wx_dir, '*STAND_MONTH*'))\n",
    "df = pd.DataFrame()\n",
    "for fp in wx_fs:\n",
    "    df = df.append(pd.read_csv(fp, skiprows=3), ignore_index= True)\n",
    "df.Date = pd.to_datetime(df.Date)\n",
    "df = df.set_index(df.Date)\n",
    "# df = df[df.index > pd.to_datetime('2021-11-01')]\n",
    "df.loc[:, 'SWE_m'] = df['WTEQ.I-1 (in) ']*0.0254\n",
    "df.loc[:, 'SD_m'] = df['SNWD.I-1 (in) ']*0.0254\n",
    "df = df.drop_duplicates()"
   ]
  },
  {
   "cell_type": "code",
   "execution_count": null,
   "metadata": {},
   "outputs": [],
   "source": []
  }
 ],
 "metadata": {
  "interpreter": {
   "hash": "6940d578a7f617a97a90d5f2d3366d54a457a5b5c395b139fd93e1f3f5e83508"
  },
  "kernelspec": {
   "display_name": "Python 3.8.8 ('infra')",
   "language": "python",
   "name": "python3"
  },
  "language_info": {
   "codemirror_mode": {
    "name": "ipython",
    "version": 3
   },
   "file_extension": ".py",
   "mimetype": "text/x-python",
   "name": "python",
   "nbconvert_exporter": "python",
   "pygments_lexer": "ipython3",
   "version": "3.8.8"
  },
  "orig_nbformat": 4
 },
 "nbformat": 4,
 "nbformat_minor": 2
}
