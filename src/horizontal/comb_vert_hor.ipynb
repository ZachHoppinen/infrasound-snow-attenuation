{
 "cells": [
  {
   "cell_type": "code",
   "execution_count": 1,
   "metadata": {},
   "outputs": [],
   "source": [
    "from glob import glob\n",
    "from os.path import join, basename\n",
    "import numpy as np\n",
    "import pandas as pd\n",
    "import matplotlib.pyplot as plt\n",
    "from filtering import freq_filt\n",
    "from correlate import norm_correlate\n",
    "from pathlib import Path\n",
    "from tqdm import tqdm\n",
    "import pickle"
   ]
  },
  {
   "cell_type": "code",
   "execution_count": 3,
   "metadata": {},
   "outputs": [
    {
     "name": "stderr",
     "output_type": "stream",
     "text": [
      "100%|██████████| 6/6 [02:50<00:00, 28.43s/it]\n"
     ]
    }
   ],
   "source": [
    "data_dir = '/Users/zachkeskinen/Documents/infrasound/data/ada-horizontal_2'\n",
    "days = []\n",
    "for fp in glob(join(data_dir, '*')):\n",
    "    day = Path(fp).stem.split('_')[0]\n",
    "    if day not in days:\n",
    "        days.append(day)\n",
    "cs = []\n",
    "for day in tqdm(days):\n",
    "    day_df = pd.DataFrame()\n",
    "    for day_fp in glob(join(data_dir, f'{day}*')):\n",
    "        channel = Path(day_fp).stem.split('_')[-1]\n",
    "        c = pd.read_parquet(day_fp)\n",
    "        day_df.loc[:,channel] = c\n",
    "    cs.append(day_df)"
   ]
  },
  {
   "cell_type": "code",
   "execution_count": 4,
   "metadata": {},
   "outputs": [],
   "source": [
    "hor = pd.concat(cs, axis = 0)\n",
    "hor = hor.sort_index()\n",
    "hor = hor.rename({'c1':'c1-hor', 'c2':'c2-hor', 'c3':'c3-hor'}, axis = 1)\n",
    "with open('/Users/zachkeskinen/Documents/infrasound/data/hor.pkl' , 'wb') as f:\n",
    "    pickle.dump(hor, f)"
   ]
  },
  {
   "cell_type": "code",
   "execution_count": 5,
   "metadata": {},
   "outputs": [
    {
     "name": "stderr",
     "output_type": "stream",
     "text": [
      "100%|██████████| 6/6 [03:52<00:00, 38.68s/it]\n"
     ]
    }
   ],
   "source": [
    "vertical_data_dir = '/Users/zachkeskinen/Documents/infrasound/data/vertical-subset/a3m-upper'\n",
    "days = []\n",
    "for fp in glob(join(vertical_data_dir, '*')):\n",
    "    day = Path(fp).stem.split('_')[0]\n",
    "    if day not in days:\n",
    "        days.append(day)\n",
    "cs = []\n",
    "for day in tqdm(days):\n",
    "    day_df = pd.DataFrame()\n",
    "    for day_fp in glob(join(vertical_data_dir, f'{day}*')):\n",
    "        channel = Path(day_fp).stem.split('_')[-1]\n",
    "        c = pd.read_parquet(day_fp)\n",
    "        day_df.loc[:,channel] = c\n",
    "    cs.append(day_df)"
   ]
  },
  {
   "cell_type": "code",
   "execution_count": 6,
   "metadata": {},
   "outputs": [],
   "source": [
    "vert = pd.concat(cs, axis = 0)\n",
    "vert = vert.sort_index()\n",
    "vert = vert.rename({'c1':'c1-vert', 'c2':'c2-vert', 'c3':'c3-vert'}, axis = 1)\n",
    "vert = vert.drop(['c2-vert'], axis = 1)\n",
    "with open('/Users/zachkeskinen/Documents/infrasound/data/vert.pkl' , 'wb') as f:\n",
    "    pickle.dump(vert, f)"
   ]
  },
  {
   "cell_type": "code",
   "execution_count": 7,
   "metadata": {},
   "outputs": [],
   "source": [
    "comb = pd.concat([hor, vert], axis = 1)"
   ]
  },
  {
   "cell_type": "code",
   "execution_count": 8,
   "metadata": {},
   "outputs": [],
   "source": [
    "combna = comb.dropna()"
   ]
  },
  {
   "cell_type": "code",
   "execution_count": 9,
   "metadata": {},
   "outputs": [],
   "source": [
    "with open('/Users/zachkeskinen/Documents/infrasound/data/comb-sub-v2.pkl' , 'wb') as f:\n",
    "    pickle.dump(combna, f)"
   ]
  },
  {
   "cell_type": "code",
   "execution_count": 11,
   "metadata": {},
   "outputs": [
    {
     "name": "stderr",
     "output_type": "stream",
     "text": [
      "100%|██████████| 10/10 [02:09<00:00, 12.94s/it]\n"
     ]
    }
   ],
   "source": [
    "data_dir = '/Users/zachkeskinen/Documents/infrasound/data/ad8-horizontal'\n",
    "days = []\n",
    "for fp in glob(join(data_dir, '*')):\n",
    "    day = Path(fp).stem.split('_')[0]\n",
    "    if day not in days:\n",
    "        days.append(day)\n",
    "cs = []\n",
    "for day in tqdm(days):\n",
    "    day_df = pd.DataFrame()\n",
    "    for day_fp in glob(join(data_dir, f'{day}*')):\n",
    "        channel = Path(day_fp).stem.split('_')[-1]\n",
    "        c = pd.read_parquet(day_fp)\n",
    "        day_df.loc[:,channel] = c\n",
    "    cs.append(day_df)"
   ]
  },
  {
   "cell_type": "code",
   "execution_count": 12,
   "metadata": {},
   "outputs": [],
   "source": [
    "hor = pd.concat(cs, axis = 0)\n",
    "hor = hor.sort_index()\n",
    "hor = hor.rename({'c1':'c1-hor1', 'c2':'c2-hor1', 'c3':'c3-hor1'}, axis = 1)\n",
    "with open('/Users/zachkeskinen/Documents/infrasound/data/hor-1.pkl' , 'wb') as f:\n",
    "    pickle.dump(hor, f)"
   ]
  },
  {
   "cell_type": "code",
   "execution_count": 2,
   "metadata": {},
   "outputs": [
    {
     "name": "stderr",
     "output_type": "stream",
     "text": [
      "100%|██████████| 10/10 [05:46<00:00, 34.66s/it]\n",
      "100%|██████████| 10/10 [05:47<00:00, 34.77s/it]\n"
     ]
    }
   ],
   "source": [
    "outer_dir = '/Users/zachkeskinen/Documents/infrasound/data/vertical-subset-1/'\n",
    "for l, data_dir in enumerate(glob(join(outer_dir, '*'))):\n",
    "    days = []\n",
    "    for fp in glob(join(data_dir, '*')):\n",
    "        day = Path(fp).stem.split('_')[0]\n",
    "        if day not in days:\n",
    "            days.append(day)\n",
    "    cs = []\n",
    "    for day in tqdm(days):\n",
    "        day_df = pd.DataFrame()\n",
    "        for day_fp in glob(join(data_dir, f'{day}*')):\n",
    "            channel = Path(day_fp).stem.split('_')[-1]\n",
    "            c = pd.read_parquet(day_fp)\n",
    "            day_df.loc[:,channel] = c\n",
    "        cs.append(day_df)\n",
    "    if l == 0:\n",
    "        vert = pd.concat(cs, axis = 0)\n",
    "        vert = vert.sort_index()\n",
    "        vert = vert.rename({'c1':f'c1-{basename(data_dir)}', 'c2':f'c2-{basename(data_dir)}', 'c3':f'c3-{basename(data_dir)}'}, axis = 1)\n",
    "    else:\n",
    "        vert2 = pd.concat(cs, axis = 0)\n",
    "        vert2 = vert2.sort_index()\n",
    "        vert2 = vert2.rename({'c1':f'c1-{basename(data_dir)}', 'c2':f'c2-{basename(data_dir)}', 'c3':f'c3-{basename(data_dir)}'}, axis = 1)"
   ]
  },
  {
   "cell_type": "code",
   "execution_count": 3,
   "metadata": {},
   "outputs": [],
   "source": [
    "vert_full = pd.concat([vert, vert2], axis = 1)"
   ]
  },
  {
   "cell_type": "code",
   "execution_count": 4,
   "metadata": {},
   "outputs": [
    {
     "data": {
      "text/html": [
       "<div>\n",
       "<style scoped>\n",
       "    .dataframe tbody tr th:only-of-type {\n",
       "        vertical-align: middle;\n",
       "    }\n",
       "\n",
       "    .dataframe tbody tr th {\n",
       "        vertical-align: top;\n",
       "    }\n",
       "\n",
       "    .dataframe thead th {\n",
       "        text-align: right;\n",
       "    }\n",
       "</style>\n",
       "<table border=\"1\" class=\"dataframe\">\n",
       "  <thead>\n",
       "    <tr style=\"text-align: right;\">\n",
       "      <th></th>\n",
       "      <th>c2-be4-lower</th>\n",
       "      <th>c3-be4-lower</th>\n",
       "      <th>c1-be4-lower</th>\n",
       "      <th>c2-a3m-upper</th>\n",
       "      <th>c3-a3m-upper</th>\n",
       "      <th>c1-a3m-upper</th>\n",
       "    </tr>\n",
       "    <tr>\n",
       "      <th>index</th>\n",
       "      <th></th>\n",
       "      <th></th>\n",
       "      <th></th>\n",
       "      <th></th>\n",
       "      <th></th>\n",
       "      <th></th>\n",
       "    </tr>\n",
       "  </thead>\n",
       "  <tbody>\n",
       "    <tr>\n",
       "      <th>2022-01-21 19:10:57.975000+00:00</th>\n",
       "      <td>NaN</td>\n",
       "      <td>NaN</td>\n",
       "      <td>NaN</td>\n",
       "      <td>-0.324045</td>\n",
       "      <td>1.657514</td>\n",
       "      <td>-0.459481</td>\n",
       "    </tr>\n",
       "    <tr>\n",
       "      <th>2022-01-21 19:10:57.980000+00:00</th>\n",
       "      <td>NaN</td>\n",
       "      <td>NaN</td>\n",
       "      <td>NaN</td>\n",
       "      <td>-0.321392</td>\n",
       "      <td>1.675094</td>\n",
       "      <td>-0.462798</td>\n",
       "    </tr>\n",
       "    <tr>\n",
       "      <th>2022-01-21 19:10:57.985000+00:00</th>\n",
       "      <td>NaN</td>\n",
       "      <td>NaN</td>\n",
       "      <td>NaN</td>\n",
       "      <td>-0.317909</td>\n",
       "      <td>1.667712</td>\n",
       "      <td>-0.452764</td>\n",
       "    </tr>\n",
       "    <tr>\n",
       "      <th>2022-01-21 19:10:57.990000+00:00</th>\n",
       "      <td>NaN</td>\n",
       "      <td>NaN</td>\n",
       "      <td>NaN</td>\n",
       "      <td>-0.318821</td>\n",
       "      <td>1.671775</td>\n",
       "      <td>-0.450111</td>\n",
       "    </tr>\n",
       "    <tr>\n",
       "      <th>2022-01-21 19:10:57.995000+00:00</th>\n",
       "      <td>NaN</td>\n",
       "      <td>NaN</td>\n",
       "      <td>NaN</td>\n",
       "      <td>-0.324792</td>\n",
       "      <td>1.675588</td>\n",
       "      <td>-0.454423</td>\n",
       "    </tr>\n",
       "    <tr>\n",
       "      <th>...</th>\n",
       "      <td>...</td>\n",
       "      <td>...</td>\n",
       "      <td>...</td>\n",
       "      <td>...</td>\n",
       "      <td>...</td>\n",
       "      <td>...</td>\n",
       "    </tr>\n",
       "    <tr>\n",
       "      <th>2022-02-02 23:59:59.975000+00:00</th>\n",
       "      <td>0.085067</td>\n",
       "      <td>0.112810</td>\n",
       "      <td>0.081184</td>\n",
       "      <td>0.100023</td>\n",
       "      <td>1.012775</td>\n",
       "      <td>0.116259</td>\n",
       "    </tr>\n",
       "    <tr>\n",
       "      <th>2022-02-02 23:59:59.980000+00:00</th>\n",
       "      <td>0.087555</td>\n",
       "      <td>0.115796</td>\n",
       "      <td>0.079857</td>\n",
       "      <td>0.092891</td>\n",
       "      <td>1.009955</td>\n",
       "      <td>0.117917</td>\n",
       "    </tr>\n",
       "    <tr>\n",
       "      <th>2022-02-02 23:59:59.985000+00:00</th>\n",
       "      <td>0.090872</td>\n",
       "      <td>0.121684</td>\n",
       "      <td>0.081848</td>\n",
       "      <td>0.092642</td>\n",
       "      <td>1.004316</td>\n",
       "      <td>0.118083</td>\n",
       "    </tr>\n",
       "    <tr>\n",
       "      <th>2022-02-02 23:59:59.990000+00:00</th>\n",
       "      <td>0.085647</td>\n",
       "      <td>0.119693</td>\n",
       "      <td>0.085082</td>\n",
       "      <td>0.093638</td>\n",
       "      <td>0.995443</td>\n",
       "      <td>0.116259</td>\n",
       "    </tr>\n",
       "    <tr>\n",
       "      <th>2022-02-02 23:59:59.995000+00:00</th>\n",
       "      <td>0.086145</td>\n",
       "      <td>0.115630</td>\n",
       "      <td>0.084335</td>\n",
       "      <td>0.089408</td>\n",
       "      <td>0.998179</td>\n",
       "      <td>0.115595</td>\n",
       "    </tr>\n",
       "  </tbody>\n",
       "</table>\n",
       "<p>158988405 rows × 6 columns</p>\n",
       "</div>"
      ],
      "text/plain": [
       "                                  c2-be4-lower  c3-be4-lower  c1-be4-lower  \\\n",
       "index                                                                        \n",
       "2022-01-21 19:10:57.975000+00:00           NaN           NaN           NaN   \n",
       "2022-01-21 19:10:57.980000+00:00           NaN           NaN           NaN   \n",
       "2022-01-21 19:10:57.985000+00:00           NaN           NaN           NaN   \n",
       "2022-01-21 19:10:57.990000+00:00           NaN           NaN           NaN   \n",
       "2022-01-21 19:10:57.995000+00:00           NaN           NaN           NaN   \n",
       "...                                        ...           ...           ...   \n",
       "2022-02-02 23:59:59.975000+00:00      0.085067      0.112810      0.081184   \n",
       "2022-02-02 23:59:59.980000+00:00      0.087555      0.115796      0.079857   \n",
       "2022-02-02 23:59:59.985000+00:00      0.090872      0.121684      0.081848   \n",
       "2022-02-02 23:59:59.990000+00:00      0.085647      0.119693      0.085082   \n",
       "2022-02-02 23:59:59.995000+00:00      0.086145      0.115630      0.084335   \n",
       "\n",
       "                                  c2-a3m-upper  c3-a3m-upper  c1-a3m-upper  \n",
       "index                                                                       \n",
       "2022-01-21 19:10:57.975000+00:00     -0.324045      1.657514     -0.459481  \n",
       "2022-01-21 19:10:57.980000+00:00     -0.321392      1.675094     -0.462798  \n",
       "2022-01-21 19:10:57.985000+00:00     -0.317909      1.667712     -0.452764  \n",
       "2022-01-21 19:10:57.990000+00:00     -0.318821      1.671775     -0.450111  \n",
       "2022-01-21 19:10:57.995000+00:00     -0.324792      1.675588     -0.454423  \n",
       "...                                        ...           ...           ...  \n",
       "2022-02-02 23:59:59.975000+00:00      0.100023      1.012775      0.116259  \n",
       "2022-02-02 23:59:59.980000+00:00      0.092891      1.009955      0.117917  \n",
       "2022-02-02 23:59:59.985000+00:00      0.092642      1.004316      0.118083  \n",
       "2022-02-02 23:59:59.990000+00:00      0.093638      0.995443      0.116259  \n",
       "2022-02-02 23:59:59.995000+00:00      0.089408      0.998179      0.115595  \n",
       "\n",
       "[158988405 rows x 6 columns]"
      ]
     },
     "execution_count": 4,
     "metadata": {},
     "output_type": "execute_result"
    }
   ],
   "source": [
    "vert_full"
   ]
  },
  {
   "cell_type": "code",
   "execution_count": 5,
   "metadata": {},
   "outputs": [],
   "source": [
    "with open('/Users/zachkeskinen/Documents/infrasound/data/vert-1.pkl' , 'wb') as f:\n",
    "    pickle.dump(vert_full, f)"
   ]
  },
  {
   "cell_type": "code",
   "execution_count": null,
   "metadata": {},
   "outputs": [
    {
     "ename": "KeyboardInterrupt",
     "evalue": "",
     "output_type": "error",
     "traceback": [
      "\u001b[0;31m---------------------------------------------------------------------------\u001b[0m",
      "\u001b[0;31mKeyboardInterrupt\u001b[0m                         Traceback (most recent call last)",
      "\u001b[1;32m/Users/zachkeskinen/Documents/infrasound/src/horizontal/comb_vert_hor.ipynb Cell 15\u001b[0m in \u001b[0;36m<cell line: 1>\u001b[0;34m()\u001b[0m\n\u001b[0;32m----> <a href='vscode-notebook-cell:/Users/zachkeskinen/Documents/infrasound/src/horizontal/comb_vert_hor.ipynb#X22sZmlsZQ%3D%3D?line=0'>1</a>\u001b[0m comb1 \u001b[39m=\u001b[39m pd\u001b[39m.\u001b[39;49mconcat([hor, vert_full], axis \u001b[39m=\u001b[39;49m \u001b[39m1\u001b[39;49m)\n",
      "File \u001b[0;32m~/miniconda3/envs/infra/lib/python3.10/site-packages/pandas/util/_decorators.py:311\u001b[0m, in \u001b[0;36mdeprecate_nonkeyword_arguments.<locals>.decorate.<locals>.wrapper\u001b[0;34m(*args, **kwargs)\u001b[0m\n\u001b[1;32m    305\u001b[0m \u001b[39mif\u001b[39;00m \u001b[39mlen\u001b[39m(args) \u001b[39m>\u001b[39m num_allow_args:\n\u001b[1;32m    306\u001b[0m     warnings\u001b[39m.\u001b[39mwarn(\n\u001b[1;32m    307\u001b[0m         msg\u001b[39m.\u001b[39mformat(arguments\u001b[39m=\u001b[39marguments),\n\u001b[1;32m    308\u001b[0m         \u001b[39mFutureWarning\u001b[39;00m,\n\u001b[1;32m    309\u001b[0m         stacklevel\u001b[39m=\u001b[39mstacklevel,\n\u001b[1;32m    310\u001b[0m     )\n\u001b[0;32m--> 311\u001b[0m \u001b[39mreturn\u001b[39;00m func(\u001b[39m*\u001b[39;49margs, \u001b[39m*\u001b[39;49m\u001b[39m*\u001b[39;49mkwargs)\n",
      "File \u001b[0;32m~/miniconda3/envs/infra/lib/python3.10/site-packages/pandas/core/reshape/concat.py:347\u001b[0m, in \u001b[0;36mconcat\u001b[0;34m(objs, axis, join, ignore_index, keys, levels, names, verify_integrity, sort, copy)\u001b[0m\n\u001b[1;32m    143\u001b[0m \u001b[39m@deprecate_nonkeyword_arguments\u001b[39m(version\u001b[39m=\u001b[39m\u001b[39mNone\u001b[39;00m, allowed_args\u001b[39m=\u001b[39m[\u001b[39m\"\u001b[39m\u001b[39mobjs\u001b[39m\u001b[39m\"\u001b[39m])\n\u001b[1;32m    144\u001b[0m \u001b[39mdef\u001b[39;00m \u001b[39mconcat\u001b[39m(\n\u001b[1;32m    145\u001b[0m     objs: Iterable[NDFrame] \u001b[39m|\u001b[39m Mapping[Hashable, NDFrame],\n\u001b[0;32m   (...)\u001b[0m\n\u001b[1;32m    154\u001b[0m     copy: \u001b[39mbool\u001b[39m \u001b[39m=\u001b[39m \u001b[39mTrue\u001b[39;00m,\n\u001b[1;32m    155\u001b[0m ) \u001b[39m-\u001b[39m\u001b[39m>\u001b[39m DataFrame \u001b[39m|\u001b[39m Series:\n\u001b[1;32m    156\u001b[0m     \u001b[39m\"\"\"\u001b[39;00m\n\u001b[1;32m    157\u001b[0m \u001b[39m    Concatenate pandas objects along a particular axis with optional set logic\u001b[39;00m\n\u001b[1;32m    158\u001b[0m \u001b[39m    along the other axes.\u001b[39;00m\n\u001b[0;32m   (...)\u001b[0m\n\u001b[1;32m    345\u001b[0m \u001b[39m    ValueError: Indexes have overlapping values: ['a']\u001b[39;00m\n\u001b[1;32m    346\u001b[0m \u001b[39m    \"\"\"\u001b[39;00m\n\u001b[0;32m--> 347\u001b[0m     op \u001b[39m=\u001b[39m _Concatenator(\n\u001b[1;32m    348\u001b[0m         objs,\n\u001b[1;32m    349\u001b[0m         axis\u001b[39m=\u001b[39;49maxis,\n\u001b[1;32m    350\u001b[0m         ignore_index\u001b[39m=\u001b[39;49mignore_index,\n\u001b[1;32m    351\u001b[0m         join\u001b[39m=\u001b[39;49mjoin,\n\u001b[1;32m    352\u001b[0m         keys\u001b[39m=\u001b[39;49mkeys,\n\u001b[1;32m    353\u001b[0m         levels\u001b[39m=\u001b[39;49mlevels,\n\u001b[1;32m    354\u001b[0m         names\u001b[39m=\u001b[39;49mnames,\n\u001b[1;32m    355\u001b[0m         verify_integrity\u001b[39m=\u001b[39;49mverify_integrity,\n\u001b[1;32m    356\u001b[0m         copy\u001b[39m=\u001b[39;49mcopy,\n\u001b[1;32m    357\u001b[0m         sort\u001b[39m=\u001b[39;49msort,\n\u001b[1;32m    358\u001b[0m     )\n\u001b[1;32m    360\u001b[0m     \u001b[39mreturn\u001b[39;00m op\u001b[39m.\u001b[39mget_result()\n",
      "File \u001b[0;32m~/miniconda3/envs/infra/lib/python3.10/site-packages/pandas/core/reshape/concat.py:542\u001b[0m, in \u001b[0;36m_Concatenator.__init__\u001b[0;34m(self, objs, axis, join, keys, levels, names, ignore_index, verify_integrity, copy, sort)\u001b[0m\n\u001b[1;32m    539\u001b[0m \u001b[39mself\u001b[39m\u001b[39m.\u001b[39mverify_integrity \u001b[39m=\u001b[39m verify_integrity\n\u001b[1;32m    540\u001b[0m \u001b[39mself\u001b[39m\u001b[39m.\u001b[39mcopy \u001b[39m=\u001b[39m copy\n\u001b[0;32m--> 542\u001b[0m \u001b[39mself\u001b[39m\u001b[39m.\u001b[39mnew_axes \u001b[39m=\u001b[39m \u001b[39mself\u001b[39;49m\u001b[39m.\u001b[39;49m_get_new_axes()\n",
      "File \u001b[0;32m~/miniconda3/envs/infra/lib/python3.10/site-packages/pandas/core/reshape/concat.py:612\u001b[0m, in \u001b[0;36m_Concatenator._get_new_axes\u001b[0;34m(self)\u001b[0m\n\u001b[1;32m    610\u001b[0m \u001b[39mdef\u001b[39;00m \u001b[39m_get_new_axes\u001b[39m(\u001b[39mself\u001b[39m) \u001b[39m-\u001b[39m\u001b[39m>\u001b[39m \u001b[39mlist\u001b[39m[Index]:\n\u001b[1;32m    611\u001b[0m     ndim \u001b[39m=\u001b[39m \u001b[39mself\u001b[39m\u001b[39m.\u001b[39m_get_result_dim()\n\u001b[0;32m--> 612\u001b[0m     \u001b[39mreturn\u001b[39;00m [\n\u001b[1;32m    613\u001b[0m         \u001b[39mself\u001b[39m\u001b[39m.\u001b[39m_get_concat_axis \u001b[39mif\u001b[39;00m i \u001b[39m==\u001b[39m \u001b[39mself\u001b[39m\u001b[39m.\u001b[39mbm_axis \u001b[39melse\u001b[39;00m \u001b[39mself\u001b[39m\u001b[39m.\u001b[39m_get_comb_axis(i)\n\u001b[1;32m    614\u001b[0m         \u001b[39mfor\u001b[39;00m i \u001b[39min\u001b[39;00m \u001b[39mrange\u001b[39m(ndim)\n\u001b[1;32m    615\u001b[0m     ]\n",
      "File \u001b[0;32m~/miniconda3/envs/infra/lib/python3.10/site-packages/pandas/core/reshape/concat.py:613\u001b[0m, in \u001b[0;36m<listcomp>\u001b[0;34m(.0)\u001b[0m\n\u001b[1;32m    610\u001b[0m \u001b[39mdef\u001b[39;00m \u001b[39m_get_new_axes\u001b[39m(\u001b[39mself\u001b[39m) \u001b[39m-\u001b[39m\u001b[39m>\u001b[39m \u001b[39mlist\u001b[39m[Index]:\n\u001b[1;32m    611\u001b[0m     ndim \u001b[39m=\u001b[39m \u001b[39mself\u001b[39m\u001b[39m.\u001b[39m_get_result_dim()\n\u001b[1;32m    612\u001b[0m     \u001b[39mreturn\u001b[39;00m [\n\u001b[0;32m--> 613\u001b[0m         \u001b[39mself\u001b[39m\u001b[39m.\u001b[39m_get_concat_axis \u001b[39mif\u001b[39;00m i \u001b[39m==\u001b[39m \u001b[39mself\u001b[39m\u001b[39m.\u001b[39mbm_axis \u001b[39melse\u001b[39;00m \u001b[39mself\u001b[39;49m\u001b[39m.\u001b[39;49m_get_comb_axis(i)\n\u001b[1;32m    614\u001b[0m         \u001b[39mfor\u001b[39;00m i \u001b[39min\u001b[39;00m \u001b[39mrange\u001b[39m(ndim)\n\u001b[1;32m    615\u001b[0m     ]\n",
      "File \u001b[0;32m~/miniconda3/envs/infra/lib/python3.10/site-packages/pandas/core/reshape/concat.py:619\u001b[0m, in \u001b[0;36m_Concatenator._get_comb_axis\u001b[0;34m(self, i)\u001b[0m\n\u001b[1;32m    617\u001b[0m \u001b[39mdef\u001b[39;00m \u001b[39m_get_comb_axis\u001b[39m(\u001b[39mself\u001b[39m, i: \u001b[39mint\u001b[39m) \u001b[39m-\u001b[39m\u001b[39m>\u001b[39m Index:\n\u001b[1;32m    618\u001b[0m     data_axis \u001b[39m=\u001b[39m \u001b[39mself\u001b[39m\u001b[39m.\u001b[39mobjs[\u001b[39m0\u001b[39m]\u001b[39m.\u001b[39m_get_block_manager_axis(i)\n\u001b[0;32m--> 619\u001b[0m     \u001b[39mreturn\u001b[39;00m get_objs_combined_axis(\n\u001b[1;32m    620\u001b[0m         \u001b[39mself\u001b[39;49m\u001b[39m.\u001b[39;49mobjs,\n\u001b[1;32m    621\u001b[0m         axis\u001b[39m=\u001b[39;49mdata_axis,\n\u001b[1;32m    622\u001b[0m         intersect\u001b[39m=\u001b[39;49m\u001b[39mself\u001b[39;49m\u001b[39m.\u001b[39;49mintersect,\n\u001b[1;32m    623\u001b[0m         sort\u001b[39m=\u001b[39;49m\u001b[39mself\u001b[39;49m\u001b[39m.\u001b[39;49msort,\n\u001b[1;32m    624\u001b[0m         copy\u001b[39m=\u001b[39;49m\u001b[39mself\u001b[39;49m\u001b[39m.\u001b[39;49mcopy,\n\u001b[1;32m    625\u001b[0m     )\n",
      "File \u001b[0;32m~/miniconda3/envs/infra/lib/python3.10/site-packages/pandas/core/indexes/api.py:99\u001b[0m, in \u001b[0;36mget_objs_combined_axis\u001b[0;34m(objs, intersect, axis, sort, copy)\u001b[0m\n\u001b[1;32m     75\u001b[0m \u001b[39m\"\"\"\u001b[39;00m\n\u001b[1;32m     76\u001b[0m \u001b[39mExtract combined index: return intersection or union (depending on the\u001b[39;00m\n\u001b[1;32m     77\u001b[0m \u001b[39mvalue of \"intersect\") of indexes on given axis, or None if all objects\u001b[39;00m\n\u001b[0;32m   (...)\u001b[0m\n\u001b[1;32m     96\u001b[0m \u001b[39mIndex\u001b[39;00m\n\u001b[1;32m     97\u001b[0m \u001b[39m\"\"\"\u001b[39;00m\n\u001b[1;32m     98\u001b[0m obs_idxes \u001b[39m=\u001b[39m [obj\u001b[39m.\u001b[39m_get_axis(axis) \u001b[39mfor\u001b[39;00m obj \u001b[39min\u001b[39;00m objs]\n\u001b[0;32m---> 99\u001b[0m \u001b[39mreturn\u001b[39;00m _get_combined_index(obs_idxes, intersect\u001b[39m=\u001b[39;49mintersect, sort\u001b[39m=\u001b[39;49msort, copy\u001b[39m=\u001b[39;49mcopy)\n",
      "File \u001b[0;32m~/miniconda3/envs/infra/lib/python3.10/site-packages/pandas/core/indexes/api.py:152\u001b[0m, in \u001b[0;36m_get_combined_index\u001b[0;34m(indexes, intersect, sort, copy)\u001b[0m\n\u001b[1;32m    150\u001b[0m         index \u001b[39m=\u001b[39m index\u001b[39m.\u001b[39mintersection(other)\n\u001b[1;32m    151\u001b[0m \u001b[39melse\u001b[39;00m:\n\u001b[0;32m--> 152\u001b[0m     index \u001b[39m=\u001b[39m union_indexes(indexes, sort\u001b[39m=\u001b[39;49m\u001b[39mFalse\u001b[39;49;00m)\n\u001b[1;32m    153\u001b[0m     index \u001b[39m=\u001b[39m ensure_index(index)\n\u001b[1;32m    155\u001b[0m \u001b[39mif\u001b[39;00m sort:\n",
      "File \u001b[0;32m~/miniconda3/envs/infra/lib/python3.10/site-packages/pandas/core/indexes/api.py:250\u001b[0m, in \u001b[0;36munion_indexes\u001b[0;34m(indexes, sort)\u001b[0m\n\u001b[1;32m    247\u001b[0m         result \u001b[39m=\u001b[39m indexes[\u001b[39m0\u001b[39m]\n\u001b[1;32m    249\u001b[0m     \u001b[39mfor\u001b[39;00m other \u001b[39min\u001b[39;00m indexes[\u001b[39m1\u001b[39m:]:\n\u001b[0;32m--> 250\u001b[0m         result \u001b[39m=\u001b[39m result\u001b[39m.\u001b[39;49munion(other, sort\u001b[39m=\u001b[39;49m\u001b[39mNone\u001b[39;49;00m \u001b[39mif\u001b[39;49;00m sort \u001b[39melse\u001b[39;49;00m \u001b[39mFalse\u001b[39;49;00m)\n\u001b[1;32m    251\u001b[0m     \u001b[39mreturn\u001b[39;00m result\n\u001b[1;32m    253\u001b[0m \u001b[39melif\u001b[39;00m kind \u001b[39m==\u001b[39m \u001b[39m\"\u001b[39m\u001b[39marray\u001b[39m\u001b[39m\"\u001b[39m:\n",
      "File \u001b[0;32m~/miniconda3/envs/infra/lib/python3.10/site-packages/pandas/core/indexes/base.py:3185\u001b[0m, in \u001b[0;36mIndex.union\u001b[0;34m(self, other, sort)\u001b[0m\n\u001b[1;32m   3182\u001b[0m \u001b[39melif\u001b[39;00m \u001b[39mnot\u001b[39;00m \u001b[39mlen\u001b[39m(\u001b[39mself\u001b[39m):\n\u001b[1;32m   3183\u001b[0m     \u001b[39mreturn\u001b[39;00m other\u001b[39m.\u001b[39m_get_reconciled_name_object(\u001b[39mself\u001b[39m)\n\u001b[0;32m-> 3185\u001b[0m result \u001b[39m=\u001b[39m \u001b[39mself\u001b[39;49m\u001b[39m.\u001b[39;49m_union(other, sort\u001b[39m=\u001b[39;49msort)\n\u001b[1;32m   3187\u001b[0m \u001b[39mreturn\u001b[39;00m \u001b[39mself\u001b[39m\u001b[39m.\u001b[39m_wrap_setop_result(other, result)\n",
      "File \u001b[0;32m~/miniconda3/envs/infra/lib/python3.10/site-packages/pandas/core/indexes/datetimelike.py:598\u001b[0m, in \u001b[0;36mDatetimeTimedeltaMixin._union\u001b[0;34m(self, other, sort)\u001b[0m\n\u001b[1;32m    596\u001b[0m     \u001b[39mreturn\u001b[39;00m result\n\u001b[1;32m    597\u001b[0m \u001b[39melse\u001b[39;00m:\n\u001b[0;32m--> 598\u001b[0m     \u001b[39mreturn\u001b[39;00m \u001b[39msuper\u001b[39;49m()\u001b[39m.\u001b[39;49m_union(other, sort)\u001b[39m.\u001b[39m_with_freq(\u001b[39m\"\u001b[39m\u001b[39minfer\u001b[39m\u001b[39m\"\u001b[39m)\n",
      "File \u001b[0;32m~/miniconda3/envs/infra/lib/python3.10/site-packages/pandas/core/indexes/base.py:3235\u001b[0m, in \u001b[0;36mIndex._union\u001b[0;34m(self, other, sort)\u001b[0m\n\u001b[1;32m   3231\u001b[0m         \u001b[39mreturn\u001b[39;00m np\u001b[39m.\u001b[39marray(value_list, dtype\u001b[39m=\u001b[39m\u001b[39mobject\u001b[39m)\n\u001b[1;32m   3233\u001b[0m \u001b[39melif\u001b[39;00m \u001b[39mnot\u001b[39;00m other\u001b[39m.\u001b[39mis_unique:\n\u001b[1;32m   3234\u001b[0m     \u001b[39m# other has duplicates\u001b[39;00m\n\u001b[0;32m-> 3235\u001b[0m     result \u001b[39m=\u001b[39m algos\u001b[39m.\u001b[39;49munion_with_duplicates(lvals, rvals)\n\u001b[1;32m   3236\u001b[0m     \u001b[39mreturn\u001b[39;00m _maybe_try_sort(result, sort)\n\u001b[1;32m   3238\u001b[0m \u001b[39m# Self may have duplicates; other already checked as unique\u001b[39;00m\n\u001b[1;32m   3239\u001b[0m \u001b[39m# find indexes of things in \"other\" that are not in \"self\"\u001b[39;00m\n",
      "File \u001b[0;32m~/miniconda3/envs/infra/lib/python3.10/site-packages/pandas/core/algorithms.py:1845\u001b[0m, in \u001b[0;36munion_with_duplicates\u001b[0;34m(lvals, rvals)\u001b[0m\n\u001b[1;32m   1842\u001b[0m unique_array \u001b[39m=\u001b[39m ensure_wrapped_if_datetimelike(unique_array)\n\u001b[1;32m   1844\u001b[0m \u001b[39mfor\u001b[39;00m i, value \u001b[39min\u001b[39;00m \u001b[39menumerate\u001b[39m(unique_array):\n\u001b[0;32m-> 1845\u001b[0m     indexer \u001b[39m+\u001b[39m\u001b[39m=\u001b[39m [i] \u001b[39m*\u001b[39m \u001b[39mint\u001b[39m(\u001b[39mmax\u001b[39m(l_count\u001b[39m.\u001b[39mat[value], r_count\u001b[39m.\u001b[39;49mat[value]))\n\u001b[1;32m   1846\u001b[0m \u001b[39mreturn\u001b[39;00m unique_array\u001b[39m.\u001b[39mtake(indexer)\n",
      "File \u001b[0;32m~/miniconda3/envs/infra/lib/python3.10/site-packages/pandas/core/indexing.py:2270\u001b[0m, in \u001b[0;36m_AtIndexer.__getitem__\u001b[0;34m(self, key)\u001b[0m\n\u001b[1;32m   2267\u001b[0m         \u001b[39mraise\u001b[39;00m \u001b[39mValueError\u001b[39;00m(\u001b[39m\"\u001b[39m\u001b[39mInvalid call for scalar access (getting)!\u001b[39m\u001b[39m\"\u001b[39m)\n\u001b[1;32m   2268\u001b[0m     \u001b[39mreturn\u001b[39;00m \u001b[39mself\u001b[39m\u001b[39m.\u001b[39mobj\u001b[39m.\u001b[39mloc[key]\n\u001b[0;32m-> 2270\u001b[0m \u001b[39mreturn\u001b[39;00m \u001b[39msuper\u001b[39;49m()\u001b[39m.\u001b[39;49m\u001b[39m__getitem__\u001b[39;49m(key)\n",
      "File \u001b[0;32m~/miniconda3/envs/infra/lib/python3.10/site-packages/pandas/core/indexing.py:2221\u001b[0m, in \u001b[0;36m_ScalarAccessIndexer.__getitem__\u001b[0;34m(self, key)\u001b[0m\n\u001b[1;32m   2218\u001b[0m         \u001b[39mraise\u001b[39;00m \u001b[39mValueError\u001b[39;00m(\u001b[39m\"\u001b[39m\u001b[39mInvalid call for scalar access (getting)!\u001b[39m\u001b[39m\"\u001b[39m)\n\u001b[1;32m   2220\u001b[0m key \u001b[39m=\u001b[39m \u001b[39mself\u001b[39m\u001b[39m.\u001b[39m_convert_key(key)\n\u001b[0;32m-> 2221\u001b[0m \u001b[39mreturn\u001b[39;00m \u001b[39mself\u001b[39;49m\u001b[39m.\u001b[39;49mobj\u001b[39m.\u001b[39;49m_get_value(\u001b[39m*\u001b[39;49mkey, takeable\u001b[39m=\u001b[39;49m\u001b[39mself\u001b[39;49m\u001b[39m.\u001b[39;49m_takeable)\n",
      "File \u001b[0;32m~/miniconda3/envs/infra/lib/python3.10/site-packages/pandas/core/series.py:1069\u001b[0m, in \u001b[0;36mSeries._get_value\u001b[0;34m(self, label, takeable)\u001b[0m\n\u001b[1;32m   1066\u001b[0m     \u001b[39mreturn\u001b[39;00m \u001b[39mself\u001b[39m\u001b[39m.\u001b[39m_values[label]\n\u001b[1;32m   1068\u001b[0m \u001b[39m# Similar to Index.get_value, but we do not fall back to positional\u001b[39;00m\n\u001b[0;32m-> 1069\u001b[0m loc \u001b[39m=\u001b[39m \u001b[39mself\u001b[39;49m\u001b[39m.\u001b[39;49mindex\u001b[39m.\u001b[39;49mget_loc(label)\n\u001b[1;32m   1070\u001b[0m \u001b[39mreturn\u001b[39;00m \u001b[39mself\u001b[39m\u001b[39m.\u001b[39mindex\u001b[39m.\u001b[39m_get_values_for_loc(\u001b[39mself\u001b[39m, loc, label)\n",
      "File \u001b[0;32m~/miniconda3/envs/infra/lib/python3.10/site-packages/pandas/core/indexes/datetimes.py:679\u001b[0m, in \u001b[0;36mDatetimeIndex.get_loc\u001b[0;34m(self, key, method, tolerance)\u001b[0m\n\u001b[1;32m    676\u001b[0m     \u001b[39mraise\u001b[39;00m \u001b[39mKeyError\u001b[39;00m(key)\n\u001b[1;32m    678\u001b[0m \u001b[39mtry\u001b[39;00m:\n\u001b[0;32m--> 679\u001b[0m     \u001b[39mreturn\u001b[39;00m Index\u001b[39m.\u001b[39;49mget_loc(\u001b[39mself\u001b[39;49m, key, method, tolerance)\n\u001b[1;32m    680\u001b[0m \u001b[39mexcept\u001b[39;00m \u001b[39mKeyError\u001b[39;00m \u001b[39mas\u001b[39;00m err:\n\u001b[1;32m    681\u001b[0m     \u001b[39mraise\u001b[39;00m \u001b[39mKeyError\u001b[39;00m(orig_key) \u001b[39mfrom\u001b[39;00m \u001b[39merr\u001b[39;00m\n",
      "File \u001b[0;32m~/miniconda3/envs/infra/lib/python3.10/site-packages/pandas/core/indexes/base.py:3619\u001b[0m, in \u001b[0;36mIndex.get_loc\u001b[0;34m(self, key, method, tolerance)\u001b[0m\n\u001b[1;32m   3614\u001b[0m \u001b[39mif\u001b[39;00m tolerance \u001b[39mis\u001b[39;00m \u001b[39mnot\u001b[39;00m \u001b[39mNone\u001b[39;00m:\n\u001b[1;32m   3615\u001b[0m     \u001b[39mraise\u001b[39;00m \u001b[39mValueError\u001b[39;00m(\n\u001b[1;32m   3616\u001b[0m         \u001b[39m\"\u001b[39m\u001b[39mtolerance argument only valid if using pad, \u001b[39m\u001b[39m\"\u001b[39m\n\u001b[1;32m   3617\u001b[0m         \u001b[39m\"\u001b[39m\u001b[39mbackfill or nearest lookups\u001b[39m\u001b[39m\"\u001b[39m\n\u001b[1;32m   3618\u001b[0m     )\n\u001b[0;32m-> 3619\u001b[0m casted_key \u001b[39m=\u001b[39m \u001b[39mself\u001b[39;49m\u001b[39m.\u001b[39;49m_maybe_cast_indexer(key)\n\u001b[1;32m   3620\u001b[0m \u001b[39mtry\u001b[39;00m:\n\u001b[1;32m   3621\u001b[0m     \u001b[39mreturn\u001b[39;00m \u001b[39mself\u001b[39m\u001b[39m.\u001b[39m_engine\u001b[39m.\u001b[39mget_loc(casted_key)\n",
      "File \u001b[0;32m~/miniconda3/envs/infra/lib/python3.10/site-packages/pandas/core/indexes/base.py:6290\u001b[0m, in \u001b[0;36mIndex._maybe_cast_indexer\u001b[0;34m(self, key)\u001b[0m\n\u001b[1;32m   6285\u001b[0m \u001b[39m\"\"\"\u001b[39;00m\n\u001b[1;32m   6286\u001b[0m \u001b[39mIf we have a float key and are not a floating index, then try to cast\u001b[39;00m\n\u001b[1;32m   6287\u001b[0m \u001b[39mto an int if equivalent.\u001b[39;00m\n\u001b[1;32m   6288\u001b[0m \u001b[39m\"\"\"\u001b[39;00m\n\u001b[1;32m   6289\u001b[0m \u001b[39mif\u001b[39;00m \u001b[39mnot\u001b[39;00m \u001b[39mself\u001b[39m\u001b[39m.\u001b[39mis_floating():\n\u001b[0;32m-> 6290\u001b[0m     \u001b[39mreturn\u001b[39;00m com\u001b[39m.\u001b[39;49mcast_scalar_indexer(key)\n\u001b[1;32m   6291\u001b[0m \u001b[39mreturn\u001b[39;00m key\n",
      "File \u001b[0;32m~/miniconda3/envs/infra/lib/python3.10/site-packages/pandas/core/common.py:160\u001b[0m, in \u001b[0;36mcast_scalar_indexer\u001b[0;34m(val, warn_float)\u001b[0m\n\u001b[1;32m    155\u001b[0m             \u001b[39mreturn\u001b[39;00m lib\u001b[39m.\u001b[39mis_bool_list(key)\n\u001b[1;32m    157\u001b[0m     \u001b[39mreturn\u001b[39;00m \u001b[39mFalse\u001b[39;00m\n\u001b[0;32m--> 160\u001b[0m \u001b[39mdef\u001b[39;00m \u001b[39mcast_scalar_indexer\u001b[39m(val, warn_float: \u001b[39mbool\u001b[39m \u001b[39m=\u001b[39m \u001b[39mFalse\u001b[39;00m):\n\u001b[1;32m    161\u001b[0m     \u001b[39m\"\"\"\u001b[39;00m\n\u001b[1;32m    162\u001b[0m \u001b[39m    To avoid numpy DeprecationWarnings, cast float to integer where valid.\u001b[39;00m\n\u001b[1;32m    163\u001b[0m \n\u001b[0;32m   (...)\u001b[0m\n\u001b[1;32m    172\u001b[0m \u001b[39m    outval : scalar\u001b[39;00m\n\u001b[1;32m    173\u001b[0m \u001b[39m    \"\"\"\u001b[39;00m\n\u001b[1;32m    174\u001b[0m     \u001b[39m# assumes lib.is_scalar(val)\u001b[39;00m\n",
      "\u001b[0;31mKeyboardInterrupt\u001b[0m: "
     ]
    }
   ],
   "source": [
    "comb1 = pd.concat([hor, vert_full], axis = 1)"
   ]
  },
  {
   "cell_type": "code",
   "execution_count": null,
   "metadata": {},
   "outputs": [],
   "source": [
    "combana = comb1.dropna()"
   ]
  }
 ],
 "metadata": {
  "kernelspec": {
   "display_name": "Python 3.10.4 ('infra')",
   "language": "python",
   "name": "python3"
  },
  "language_info": {
   "codemirror_mode": {
    "name": "ipython",
    "version": 3
   },
   "file_extension": ".py",
   "mimetype": "text/x-python",
   "name": "python",
   "nbconvert_exporter": "python",
   "pygments_lexer": "ipython3",
   "version": "3.10.4"
  },
  "orig_nbformat": 4,
  "vscode": {
   "interpreter": {
    "hash": "74327e1a8c84d0f0283378c67c8823c47058bdecd7a40692137913bd7afa3660"
   }
  }
 },
 "nbformat": 4,
 "nbformat_minor": 2
}
