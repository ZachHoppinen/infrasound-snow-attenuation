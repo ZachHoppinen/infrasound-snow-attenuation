{
 "cells": [
  {
   "cell_type": "markdown",
   "metadata": {},
   "source": [
    "# Results"
   ]
  },
  {
   "cell_type": "code",
   "execution_count": 7,
   "metadata": {},
   "outputs": [],
   "source": [
    "import numpy as np\n",
    "import pandas as pd\n",
    "from glob import glob\n",
    "from os.path import join, basename, dirname, exists\n",
    "import re"
   ]
  },
  {
   "cell_type": "markdown",
   "metadata": {},
   "source": [
    "## Time Series Overview"
   ]
  },
  {
   "cell_type": "code",
   "execution_count": 2,
   "metadata": {},
   "outputs": [],
   "source": [
    "local_data_dir = '/home/zacharykeskinen/Documents/infrasound/data/banner/infrasound/processed'"
   ]
  },
  {
   "cell_type": "code",
   "execution_count": 28,
   "metadata": {},
   "outputs": [],
   "source": [
    "dates = []\n",
    "fps = glob(join(local_data_dir, '*'))\n",
    "for i in fps:\n",
    "    j = basename(i).split('.')[0]\n",
    "    j = re.sub('[^0-9]','' ,j)\n",
    "    j = j[2:]\n",
    "    j = pd.to_datetime(j, format='%y%m%d%f')\n",
    "    dates.append(j)\n",
    "    dates = sorted(dates)"
   ]
  },
  {
   "cell_type": "code",
   "execution_count": 27,
   "metadata": {},
   "outputs": [
    {
     "name": "stdout",
     "output_type": "stream",
     "text": [
      "first day = 2021-12-02 00:00:00.222013, last day = 2022-05-04 00:00:00\n"
     ]
    }
   ],
   "source": [
    "print(f'first day = {dates[0]}, last day = {dates[-1]}')"
   ]
  },
  {
   "cell_type": "code",
   "execution_count": 37,
   "metadata": {},
   "outputs": [],
   "source": [
    "lower_array = [f for f in fps if 'c0be4' in f]\n",
    "lower_dic = {'pri0':0.33, 'pri1':0.6, 'pri2':1}\n",
    "for ext in lower_dic.keys():\n",
    "    sensor_fps = sorted([f for f in lower_array if (ext in f) and (f'1.{ext}' not in f)])\n",
    "    for d in sensor_fps:\n",
    "        d"
   ]
  },
  {
   "cell_type": "code",
   "execution_count": 39,
   "metadata": {},
   "outputs": [
    {
     "ename": "ValueError",
     "evalue": "Cannot load file containing pickled data when allow_pickle=False",
     "output_type": "error",
     "traceback": [
      "\u001b[0;31m---------------------------------------------------------------------------\u001b[0m",
      "\u001b[0;31mValueError\u001b[0m                                Traceback (most recent call last)",
      "\u001b[1;32m/home/zacharykeskinen/Documents/infrasound/src/writing/results.ipynb Cell 8'\u001b[0m in \u001b[0;36m<module>\u001b[0;34m\u001b[0m\n\u001b[0;32m----> <a href='vscode-notebook-cell:/home/zacharykeskinen/Documents/infrasound/src/writing/results.ipynb#ch0000010?line=0'>1</a>\u001b[0m np\u001b[39m.\u001b[39;49mload(d)\n",
      "File \u001b[0;32m~/anaconda3/envs/infra/lib/python3.8/site-packages/numpy/lib/npyio.py:445\u001b[0m, in \u001b[0;36mload\u001b[0;34m(file, mmap_mode, allow_pickle, fix_imports, encoding)\u001b[0m\n\u001b[1;32m    <a href='file:///home/zacharykeskinen/anaconda3/envs/infra/lib/python3.8/site-packages/numpy/lib/npyio.py?line=441'>442</a>\u001b[0m \u001b[39melse\u001b[39;00m:\n\u001b[1;32m    <a href='file:///home/zacharykeskinen/anaconda3/envs/infra/lib/python3.8/site-packages/numpy/lib/npyio.py?line=442'>443</a>\u001b[0m     \u001b[39m# Try a pickle\u001b[39;00m\n\u001b[1;32m    <a href='file:///home/zacharykeskinen/anaconda3/envs/infra/lib/python3.8/site-packages/numpy/lib/npyio.py?line=443'>444</a>\u001b[0m     \u001b[39mif\u001b[39;00m \u001b[39mnot\u001b[39;00m allow_pickle:\n\u001b[0;32m--> <a href='file:///home/zacharykeskinen/anaconda3/envs/infra/lib/python3.8/site-packages/numpy/lib/npyio.py?line=444'>445</a>\u001b[0m         \u001b[39mraise\u001b[39;00m \u001b[39mValueError\u001b[39;00m(\u001b[39m\"\u001b[39m\u001b[39mCannot load file containing pickled data \u001b[39m\u001b[39m\"\u001b[39m\n\u001b[1;32m    <a href='file:///home/zacharykeskinen/anaconda3/envs/infra/lib/python3.8/site-packages/numpy/lib/npyio.py?line=445'>446</a>\u001b[0m                          \u001b[39m\"\u001b[39m\u001b[39mwhen allow_pickle=False\u001b[39m\u001b[39m\"\u001b[39m)\n\u001b[1;32m    <a href='file:///home/zacharykeskinen/anaconda3/envs/infra/lib/python3.8/site-packages/numpy/lib/npyio.py?line=446'>447</a>\u001b[0m     \u001b[39mtry\u001b[39;00m:\n\u001b[1;32m    <a href='file:///home/zacharykeskinen/anaconda3/envs/infra/lib/python3.8/site-packages/numpy/lib/npyio.py?line=447'>448</a>\u001b[0m         \u001b[39mreturn\u001b[39;00m pickle\u001b[39m.\u001b[39mload(fid, \u001b[39m*\u001b[39m\u001b[39m*\u001b[39mpickle_kwargs)\n",
      "\u001b[0;31mValueError\u001b[0m: Cannot load file containing pickled data when allow_pickle=False"
     ]
    }
   ],
   "source": [
    "np.load(d)"
   ]
  },
  {
   "cell_type": "code",
   "execution_count": null,
   "metadata": {},
   "outputs": [],
   "source": []
  }
 ],
 "metadata": {
  "interpreter": {
   "hash": "6940d578a7f617a97a90d5f2d3366d54a457a5b5c395b139fd93e1f3f5e83508"
  },
  "kernelspec": {
   "display_name": "Python 3.8.8 ('infra')",
   "language": "python",
   "name": "python3"
  },
  "language_info": {
   "codemirror_mode": {
    "name": "ipython",
    "version": 3
   },
   "file_extension": ".py",
   "mimetype": "text/x-python",
   "name": "python",
   "nbconvert_exporter": "python",
   "pygments_lexer": "ipython3",
   "version": "3.8.8"
  },
  "orig_nbformat": 4
 },
 "nbformat": 4,
 "nbformat_minor": 2
}
