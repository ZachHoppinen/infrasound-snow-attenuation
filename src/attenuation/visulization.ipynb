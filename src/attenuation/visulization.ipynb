{
 "cells": [
  {
   "cell_type": "code",
   "execution_count": 1,
   "metadata": {},
   "outputs": [],
   "source": [
    "import os\n",
    "from os.path import join, basename, expanduser\n",
    "from glob import glob\n",
    "import pickle\n",
    "import numpy as np\n",
    "import pandas as pd\n",
    "import matplotlib.pyplot as plt"
   ]
  },
  {
   "cell_type": "code",
   "execution_count": 2,
   "metadata": {},
   "outputs": [],
   "source": [
    "result_dir = expanduser(f'~/infrasound/results/attenuation/')\n",
    "with open(join(result_dir, 'attenuation_v2.pkl'), 'rb') as f:\n",
    "    res = pickle.load(f)"
   ]
  },
  {
   "cell_type": "code",
   "execution_count": 38,
   "metadata": {},
   "outputs": [
    {
     "data": {
      "image/png": "[encoded data removed]",
      "text/plain": [
       "<Figure size 432x288 with 1 Axes>"
      ]
     },
     "metadata": {
      "needs_background": "light"
     },
     "output_type": "display_data"
    }
   ],
   "source": [
    "t = pd.DataFrame()\n",
    "for hs, values in res.iteritems():\n",
    "    h1, h2 = hs.split('-')\n",
    "    z = round(abs(float(h2)- float(h1)), 1)\n",
    "    zs = np.ones_like(values)*z\n",
    "    values = np.abs(values)\n",
    "    plt.scatter(zs, values, color = 'blue', alpha = 0.8)\n",
    "    t = pd.concat([t, pd.DataFrame.from_dict({str(z):[np.nanmean(values)]})])\n",
    "\n",
    "for z, values in t.iteritems():\n",
    "    for v in values[~np.isnan(values)]:\n",
    "        plt.scatter(float(z), v, color = 'red')"
   ]
  },
  {
   "cell_type": "code",
   "execution_count": 39,
   "metadata": {},
   "outputs": [],
   "source": [
    "result_dir = expanduser(f'~/infrasound/results/attenuation/')\n",
    "with open(join(result_dir, 'attenuation_10-20_power.pkl'), 'rb') as f:\n",
    "    res = pickle.load(f)"
   ]
  },
  {
   "cell_type": "code",
   "execution_count": 48,
   "metadata": {},
   "outputs": [
    {
     "data": {
      "text/html": [
       "<div>\n",
       "<style scoped>\n",
       "    .dataframe tbody tr th:only-of-type {\n",
       "        vertical-align: middle;\n",
       "    }\n",
       "\n",
       "    .dataframe tbody tr th {\n",
       "        vertical-align: top;\n",
       "    }\n",
       "\n",
       "    .dataframe thead th {\n",
       "        text-align: right;\n",
       "    }\n",
       "</style>\n",
       "<table border=\"1\" class=\"dataframe\">\n",
       "  <thead>\n",
       "    <tr style=\"text-align: right;\">\n",
       "      <th></th>\n",
       "      <th>1.33-0.33</th>\n",
       "      <th>1.33-0.66</th>\n",
       "      <th>1.33-1</th>\n",
       "      <th>0.33-0.66</th>\n",
       "      <th>0.33-1</th>\n",
       "      <th>0.66-1</th>\n",
       "    </tr>\n",
       "  </thead>\n",
       "  <tbody>\n",
       "    <tr>\n",
       "      <th>2022-03-17</th>\n",
       "      <td>7.921994e-07</td>\n",
       "      <td>2.622389e-06</td>\n",
       "      <td>2.580267e-06</td>\n",
       "      <td>0.000002</td>\n",
       "      <td>0.000002</td>\n",
       "      <td>4.212189e-08</td>\n",
       "    </tr>\n",
       "    <tr>\n",
       "      <th>2022-02-08</th>\n",
       "      <td>5.440183e-06</td>\n",
       "      <td>8.483157e-07</td>\n",
       "      <td>2.225995e-07</td>\n",
       "      <td>0.000006</td>\n",
       "      <td>0.000006</td>\n",
       "      <td>6.257162e-07</td>\n",
       "    </tr>\n",
       "    <tr>\n",
       "      <th>2022-01-30</th>\n",
       "      <td>5.399979e-06</td>\n",
       "      <td>3.964758e-06</td>\n",
       "      <td>1.547182e-06</td>\n",
       "      <td>0.000001</td>\n",
       "      <td>0.000007</td>\n",
       "      <td>5.511939e-06</td>\n",
       "    </tr>\n",
       "  </tbody>\n",
       "</table>\n",
       "</div>"
      ],
      "text/plain": [
       "               1.33-0.33     1.33-0.66        1.33-1  0.33-0.66    0.33-1  \\\n",
       "2022-03-17  7.921994e-07  2.622389e-06  2.580267e-06   0.000002  0.000002   \n",
       "2022-02-08  5.440183e-06  8.483157e-07  2.225995e-07   0.000006  0.000006   \n",
       "2022-01-30  5.399979e-06  3.964758e-06  1.547182e-06   0.000001  0.000007   \n",
       "\n",
       "                  0.66-1  \n",
       "2022-03-17  4.212189e-08  \n",
       "2022-02-08  6.257162e-07  \n",
       "2022-01-30  5.511939e-06  "
      ]
     },
     "execution_count": 48,
     "metadata": {},
     "output_type": "execute_result"
    }
   ],
   "source": [
    "res.dropna()"
   ]
  },
  {
   "cell_type": "code",
   "execution_count": 49,
   "metadata": {},
   "outputs": [
    {
     "data": {
      "image/png": "[encoded data removed]",
      "text/plain": [
       "<Figure size 432x288 with 1 Axes>"
      ]
     },
     "metadata": {
      "needs_background": "light"
     },
     "output_type": "display_data"
    }
   ],
   "source": [
    "t = pd.DataFrame()\n",
    "for hs, values in res.iteritems():\n",
    "    h1, h2 = hs.split('-')\n",
    "    z = round(abs(float(h2)- float(h1)), 1)\n",
    "    zs = np.ones_like(values)*z\n",
    "    values = np.abs(values)\n",
    "    plt.scatter(zs, values, color = 'blue', alpha = 0.8)\n",
    "    t = pd.concat([t, pd.DataFrame.from_dict({str(z):[np.nanmean(values)]})])\n",
    "\n",
    "for z, values in t.iteritems():\n",
    "    for v in values[~np.isnan(values)]:\n",
    "        plt.scatter(float(z), v, color = 'red')"
   ]
  },
  {
   "cell_type": "code",
   "execution_count": null,
   "metadata": {},
   "outputs": [],
   "source": []
  }
 ],
 "metadata": {
  "interpreter": {
   "hash": "a39a8a2e91d996c3034102a2bac5234ac4ff588e560acca73942b7dd55035c15"
  },
  "kernelspec": {
   "display_name": "Python 3.9.13 ('infra')",
   "language": "python",
   "name": "python3"
  },
  "language_info": {
   "codemirror_mode": {
    "name": "ipython",
    "version": 3
   },
   "file_extension": ".py",
   "mimetype": "text/x-python",
   "name": "python",
   "nbconvert_exporter": "python",
   "pygments_lexer": "ipython3",
   "version": "3.9.13"
  },
  "orig_nbformat": 4
 },
 "nbformat": 4,
 "nbformat_minor": 2
}
