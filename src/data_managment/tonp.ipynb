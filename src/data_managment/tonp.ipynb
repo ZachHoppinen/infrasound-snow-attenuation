{
 "cells": [
  {
   "cell_type": "code",
   "execution_count": 3,
   "metadata": {},
   "outputs": [],
   "source": [
    "import numpy as np\n",
    "from glob import glob\n",
    "from os.path import exists, join, basename"
   ]
  },
  {
   "cell_type": "code",
   "execution_count": 16,
   "metadata": {},
   "outputs": [],
   "source": [
    "ac_calib = 8.2928e-05\n",
    "name_dic = {'be4':'lower','a3m':'upper','ad8':'horizontal'}\n",
    "local_data_dir = '/home/zacharykeskinen/Documents/infrasound/data/banner/infrasound/processed'\n",
    "target_dir = '/home/zacharykeskinen/Documents/infrasound/array_data'\n",
    "assert exists(target_dir)\n",
    "fps = glob(join(local_data_dir, '*'))\n",
    "fps = [f for f in fps if '.1.' not in f]\n",
    "array_names = np.unique([basename(f)[2:5] for f in fps])"
   ]
  },
  {
   "cell_type": "code",
   "execution_count": 17,
   "metadata": {},
   "outputs": [
    {
     "ename": "AssertionError",
     "evalue": "Missing an array in dict?",
     "output_type": "error",
     "traceback": [
      "\u001b[0;31m---------------------------------------------------------------------------\u001b[0m",
      "\u001b[0;31mAssertionError\u001b[0m                            Traceback (most recent call last)",
      "\u001b[1;32m/home/zacharykeskinen/Documents/infrasound/src/data_conversion/tonp.ipynb Cell 3'\u001b[0m in \u001b[0;36m<cell line: 1>\u001b[0;34m()\u001b[0m\n\u001b[0;32m----> <a href='vscode-notebook-cell:/home/zacharykeskinen/Documents/infrasound/src/data_conversion/tonp.ipynb#ch0000004?line=0'>1</a>\u001b[0m \u001b[39massert\u001b[39;00m \u001b[39mset\u001b[39m(array_names) \u001b[39m==\u001b[39m \u001b[39mset\u001b[39m(name_dic\u001b[39m.\u001b[39mkeys()), \u001b[39m'\u001b[39m\u001b[39mMissing an array in dict?\u001b[39m\u001b[39m'\u001b[39m\n",
      "\u001b[0;31mAssertionError\u001b[0m: Missing an array in dict?"
     ]
    }
   ],
   "source": [
    "assert set(array_names) == set(name_dic.keys()), 'Missing an array in dict?'"
   ]
  },
  {
   "cell_type": "code",
   "execution_count": 18,
   "metadata": {},
   "outputs": [
    {
     "data": {
      "text/plain": [
       "array(['a3m', 'ad8', 'ada', 'be4'], dtype='<U3')"
      ]
     },
     "execution_count": 18,
     "metadata": {},
     "output_type": "execute_result"
    }
   ],
   "source": [
    "set(array_names)"
   ]
  },
  {
   "cell_type": "code",
   "execution_count": 19,
   "metadata": {},
   "outputs": [
    {
     "data": {
      "text/plain": [
       "dict_keys(['be4', 'a3m', 'ad8'])"
      ]
     },
     "execution_count": 19,
     "metadata": {},
     "output_type": "execute_result"
    }
   ],
   "source": [
    "name_dic.keys()"
   ]
  },
  {
   "cell_type": "code",
   "execution_count": null,
   "metadata": {},
   "outputs": [],
   "source": []
  }
 ],
 "metadata": {
  "kernelspec": {
   "display_name": "Python 3.10.4 ('infra')",
   "language": "python",
   "name": "python3"
  },
  "language_info": {
   "codemirror_mode": {
    "name": "ipython",
    "version": 3
   },
   "file_extension": ".py",
   "mimetype": "text/x-python",
   "name": "python",
   "nbconvert_exporter": "python",
   "pygments_lexer": "ipython3",
   "version": "3.10.4"
  },
  "orig_nbformat": 4,
  "vscode": {
   "interpreter": {
    "hash": "8dde32aaf5d955e9ae5065f15457609f298b442c54899f76b2fa87ddc44ef838"
   }
  }
 },
 "nbformat": 4,
 "nbformat_minor": 2
}
