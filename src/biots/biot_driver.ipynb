{
 "cells": [
  {
   "cell_type": "code",
   "execution_count": 6,
   "metadata": {},
   "outputs": [],
   "source": [
    "from Biot_model import wavenumber\n",
    "import numpy as np"
   ]
  },
  {
   "cell_type": "code",
   "execution_count": 14,
   "metadata": {},
   "outputs": [],
   "source": [
    "##### FREQUENCY #####\n",
    "# frequency 40 Hz\n",
    "f = 40\n",
    "# angular frequency\n",
    "omega = 2*np.pi*f\n",
    "\n",
    "##### AIR PARAMETERS\n",
    "# Density\n",
    "p_air = 1.1\n",
    "# Compressibility\n",
    "C_air = 1.3e-5\n",
    "# Viscosity\n",
    "nu_air = 8.5e-6\n",
    "\n",
    "##### ICE PARAMETERS #####\n",
    "# Density\n",
    "p_ice = 917\n",
    "# Bulk modulus\n",
    "K_ice = 1.19e9\n",
    "# Compressibility\n",
    "C_ice = 1/K_ice\n",
    "\n",
    "##### SNOW PARAMETERS #####\n",
    "# Density (kg/m3)  - from field average\n",
    "p_snow = 294\n",
    "# Youngs Modulus of snow\n",
    "youngs = 1e-2\n",
    "# Poissons of snow\n",
    "poissons = 0.25\n",
    "# Shear modulus of snow\n",
    "shear = youngs/(2*(1+poissons))\n",
    "# radius (assumes sphere)\n",
    "r = 0.5\n",
    "# Porosity (0.45- 0.95)\n",
    "phi = 1 - (p_snow/p_ice)\n",
    "# Tortuosity with r = 1/2 for sphere\n",
    "t = 1 - (r*(1- (1/phi)))\n",
    "\n",
    "# free parameters to vary:\n",
    "# Permeability\n",
    "k_snow = 8.5e-9\n",
    "# Pore characteristic size\n",
    "d = 0.001\n",
    "# Stucture Factor\n",
    "d_bar = 1\n",
    "\n",
    "\n",
    "##### AIR PARAMETERS #####\n",
    "# air = [density, kinetic velocity, compressibility]\n",
    "air =[p_air, C_air,nu_air]\n",
    "# ice = [density, compressibility]\n",
    "ice = [p_ice, C_ice]\n",
    "\n",
    "# snow = [density, youngs modulus, shear modulus, permeability, pore characteristic size, structure factor, tortuosity factor]\n",
    "snow = [p_snow, youngs, shear, k_snow, d, d_bar, t]\n",
    "[delta1, delta2, delta3] = wavenumber(omega = omega, air = air, ice = ice, snow = snow)"
   ]
  },
  {
   "cell_type": "code",
   "execution_count": 35,
   "metadata": {},
   "outputs": [
    {
     "name": "stdout",
     "output_type": "stream",
     "text": [
      "Speed at 40 Hz in our snow is modeled at 0.0001576205896003698 m/s\n",
      "Attenuation at 40 Hz in our snow is modeled at -1897199.4901118819 db/m\n"
     ]
    }
   ],
   "source": [
    "##### Attenuation Coefficent from Wave number #####\n",
    "# delta1 = Fast wave\n",
    "# delta2 = slow wave\n",
    "# delta3 = transversal wave\n",
    "# Looking at: https://physics.byu.edu/faculty/colton/docs/phy442-winter20/lecture-10-complex-wave-number.pdf\n",
    "print(f'Speed at 40 Hz in our snow is modeled at {omega/(delta2.real)} m/s')\n",
    "# 2 times imaginary component since power varies with amplitude squared.\n",
    "print(f'Attenuation at 40 Hz in our snow is modeled at {2*delta2.imag} db/m')"
   ]
  }
 ],
 "metadata": {
  "kernelspec": {
   "display_name": "Python 3.10.4 ('infra')",
   "language": "python",
   "name": "python3"
  },
  "language_info": {
   "codemirror_mode": {
    "name": "ipython",
    "version": 3
   },
   "file_extension": ".py",
   "mimetype": "text/x-python",
   "name": "python",
   "nbconvert_exporter": "python",
   "pygments_lexer": "ipython3",
   "version": "3.10.4"
  },
  "orig_nbformat": 4,
  "vscode": {
   "interpreter": {
    "hash": "74327e1a8c84d0f0283378c67c8823c47058bdecd7a40692137913bd7afa3660"
   }
  }
 },
 "nbformat": 4,
 "nbformat_minor": 2
}
