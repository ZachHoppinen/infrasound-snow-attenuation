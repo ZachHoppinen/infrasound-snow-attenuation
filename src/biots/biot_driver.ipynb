{
 "cells": [
  {
   "cell_type": "code",
   "execution_count": 3,
   "metadata": {},
   "outputs": [],
   "source": [
    "import numpy as np\n",
    "from Biot_model import wavenumber"
   ]
  },
  {
   "cell_type": "code",
   "execution_count": 2,
   "metadata": {},
   "outputs": [
    {
     "name": "stdout",
     "output_type": "stream",
     "text": [
      "\u001b[0;31mSignature:\u001b[0m \u001b[0mwavenumber\u001b[0m\u001b[0;34m(\u001b[0m\u001b[0momega\u001b[0m\u001b[0;34m,\u001b[0m \u001b[0mair\u001b[0m\u001b[0;34m,\u001b[0m \u001b[0mice\u001b[0m\u001b[0;34m,\u001b[0m \u001b[0msnow\u001b[0m\u001b[0;34m)\u001b[0m\u001b[0;34m\u001b[0m\u001b[0;34m\u001b[0m\u001b[0m\n",
      "\u001b[0;31mDocstring:\u001b[0m\n",
      "Compute the complex wavenumbers of the three modes of the Biot model for a given freuency and material properties.\n",
      "The solution of Deresiewiczis used with the Johnson/Biot definitions of the dissipation therm, use of tortuosity and r factor for rho12.\n",
      "\n",
      "\n",
      "\n",
      "Parameters:\n",
      "-----------    \n",
      "omega:          angular frequency\n",
      "air:            air properties, [rho_f,nu,C_air] \n",
      "ice:            ice properties, [rho_ice,C_ice]\n",
      "snow:           snow properties [rho_snow,yung,shear,per,d,d_bar,r]\n",
      "\n",
      "\n",
      "Variable:       Units:      Property:\n",
      "---------       ------      --------\n",
      "rho:            kg/m^2      density\n",
      "nu:             m^2/s       kinematic viscosity\n",
      "C:              Pa^-1       compressibility\n",
      "yung:           Pa          yung modulus of snow\n",
      "shear:          Pa          shear modulus of snow\n",
      "per:            m^3 s/kg    permeability (definition of Johnson), per=per'(m^2)/dinamic viscosity(mu)\n",
      "d:              m           pore characteristic size\n",
      "d_bar:          -           structure factor, dimensionless\n",
      "r:              -           tortuuosity factor, dimensionless, r=0.5 for spheres\n",
      "\n",
      "\n",
      "Returns:\n",
      "-----------\n",
      "delta1:                 wavenumber of longitudinal waves mode1\n",
      "delta2:                 wavenumber of longitudinal waves  mode2\n",
      "dela3:                  wavenumber of transversal waves\n",
      "\n",
      "\n",
      "\n",
      "\n",
      "Example: \n",
      "\n",
      "[delta1, delta2, delta3]=wavenumber(omega,air,ice,snow)\n",
      "\u001b[0;31mFile:\u001b[0m      ~/Documents/infrasound/src/biots/Biot_model.py\n",
      "\u001b[0;31mType:\u001b[0m      function\n"
     ]
    }
   ],
   "source": [
    "?wavenumber"
   ]
  },
  {
   "cell_type": "markdown",
   "metadata": {},
   "source": [
    "$$\n",
    "E =2G(1+v)\n",
    "$$\n",
    "\n",
    "where E is youngs, G is shear modulus and v is poisons.\n",
    "\n",
    "So G is:\n",
    "\n",
    "$$\n",
    "G = E/((2(1+v))\n",
    "$$"
   ]
  },
  {
   "cell_type": "code",
   "execution_count": 9,
   "metadata": {},
   "outputs": [],
   "source": [
    "f = 40\n",
    "omega = 2*np.pi*f\n",
    "\n",
    "yungs = 1e-2\n",
    "poissons = 0.25\n",
    "shear = yungs/(2*(1+poissons))\n",
    "\n",
    "air =[1.1, 1.3e-5,8.5e-6]\n",
    "ice = [917, 1.19e9]\n",
    "snow = [300, yungs, shear, 8e-10, 0.001, 1, 0.5]\n",
    "[delta1, delta2, delta3] = wavenumber(omega = omega, air = air, ice = ice, snow = snow)"
   ]
  },
  {
   "cell_type": "code",
   "execution_count": 10,
   "metadata": {},
   "outputs": [
    {
     "data": {
      "text/plain": [
       "-0j"
      ]
     },
     "execution_count": 10,
     "metadata": {},
     "output_type": "execute_result"
    }
   ],
   "source": [
    "delta1"
   ]
  },
  {
   "cell_type": "code",
   "execution_count": 11,
   "metadata": {},
   "outputs": [
    {
     "data": {
      "text/plain": [
       "(21945520740924.22+36871807022460.46j)"
      ]
     },
     "execution_count": 11,
     "metadata": {},
     "output_type": "execute_result"
    }
   ],
   "source": [
    "delta2"
   ]
  },
  {
   "cell_type": "code",
   "execution_count": 12,
   "metadata": {},
   "outputs": [
    {
     "data": {
      "text/plain": [
       "(68828.84650501797-1.756317614835042e-05j)"
      ]
     },
     "execution_count": 12,
     "metadata": {},
     "output_type": "execute_result"
    }
   ],
   "source": [
    "delta3"
   ]
  }
 ],
 "metadata": {
  "kernelspec": {
   "display_name": "Python 3.10.4 ('infra')",
   "language": "python",
   "name": "python3"
  },
  "language_info": {
   "codemirror_mode": {
    "name": "ipython",
    "version": 3
   },
   "file_extension": ".py",
   "mimetype": "text/x-python",
   "name": "python",
   "nbconvert_exporter": "python",
   "pygments_lexer": "ipython3",
   "version": "3.10.4"
  },
  "orig_nbformat": 4,
  "vscode": {
   "interpreter": {
    "hash": "74327e1a8c84d0f0283378c67c8823c47058bdecd7a40692137913bd7afa3660"
   }
  }
 },
 "nbformat": 4,
 "nbformat_minor": 2
}
