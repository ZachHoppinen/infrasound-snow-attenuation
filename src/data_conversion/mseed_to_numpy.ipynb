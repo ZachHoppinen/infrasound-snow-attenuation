{
 "cells": [
  {
   "cell_type": "code",
   "execution_count": 84,
   "metadata": {},
   "outputs": [
    {
     "data": {
      "text/plain": [
       "'\\nScript converts all mseed files into numpy array. Each array is detrended by fitting a linear function and subtracting that line to remove the DC offset.\\n\\n'"
      ]
     },
     "execution_count": 84,
     "metadata": {},
     "output_type": "execute_result"
    }
   ],
   "source": [
    "\"\"\"\n",
    "Script converts all mseed files into numpy array. Each array is detrended by fitting a linear function and subtracting that line to remove the DC offset.\n",
    "\n",
    "\"\"\""
   ]
  },
  {
   "cell_type": "code",
   "execution_count": 22,
   "metadata": {},
   "outputs": [],
   "source": [
    "import obspy\n",
    "\n",
    "import numpy as np\n",
    "import pandas as pd\n",
    "from glob import glob\n",
    "import os\n",
    "from os.path import join, basename, dirname, exists\n",
    "import re"
   ]
  },
  {
   "cell_type": "code",
   "execution_count": 74,
   "metadata": {},
   "outputs": [],
   "source": [
    "import matplotlib.pyplot as plt\n",
    "from datetime import datetime"
   ]
  },
  {
   "cell_type": "code",
   "execution_count": 13,
   "metadata": {},
   "outputs": [],
   "source": [
    "ac_calib = 8.2928e-05\n",
    "name_dic = {'be4':'lower','a3m':'upper','ad8':'horizontal'}"
   ]
  },
  {
   "cell_type": "code",
   "execution_count": 20,
   "metadata": {},
   "outputs": [],
   "source": [
    "local_data_dir = '/home/zacharykeskinen/Documents/infrasound/data/banner/infrasound/processed'\n",
    "target_dir = '/home/zacharykeskinen/Documents/infrasound/array_data'\n",
    "assert exists(target_dir)"
   ]
  },
  {
   "cell_type": "code",
   "execution_count": 82,
   "metadata": {},
   "outputs": [],
   "source": [
    "fps = glob(join(local_data_dir, '*'))\n",
    "fps = [f for f in fps if '.1.' not in f]\n",
    "array_names = np.unique([basename(f)[2:5] for f in fps])\n",
    "assert set(array_names) == set(name_dic.keys()), 'Missing an array in dict?'\n",
    "for ext, desc in name_dic.items():\n",
    "    os.makedirs(join(target_dir, f'{ext}-{desc}'), exist_ok= True)\n",
    "    array_fps = [f for f in fps if ext in f]\n",
    "    res = pd.DataFrame()\n",
    "    if ext != 'ad8':\n",
    "        for i, fp in enumerate(array_fps):\n",
    "            if i < 3:\n",
    "                tr = obspy.read(fp)[0]\n",
    "                tr.detrend(\"linear\")\n",
    "                arr = np.array(tr.data * ac_calib)\n",
    "                t = [datetime.fromtimestamp(t) for t in tr.times(\"timestamp\")]\n",
    "                stats = tr.stats\n",
    "                res = pd.concat([res, pd.DataFrame(arr, index = t)])"
   ]
  },
  {
   "cell_type": "code",
   "execution_count": null,
   "metadata": {},
   "outputs": [],
   "source": [
    "in_dir = '/home/zacharykeskinen/data/infrasound/infrasound/processed' #infrasound/banner/infrasound/processed/'\n",
    "in_dir = '../../data/banner/infrasound/processed'\n",
    "exists(in_dir)"
   ]
  },
  {
   "cell_type": "code",
   "execution_count": null,
   "metadata": {},
   "outputs": [],
   "source": [
    "# l = os.listdir(in_dir)\n",
    "l = glob(os.path.join(in_dir, 'c0be4*'))\n",
    "r = []\n",
    "for i in l:\n",
    "    i = os.path.basename(i)\n",
    "    j = i[5:11]\n",
    "    if j not in r:\n",
    "        r.append(j)\n",
    "r.sort()"
   ]
  },
  {
   "cell_type": "code",
   "execution_count": null,
   "metadata": {},
   "outputs": [],
   "source": [
    "name_dic = {'be4':'lower','a3m':'upper','ad8':'failed array'}\n",
    "height_dic = {'lower-p0':0.33,'lower-p1':0.66,'lower-p2':1,'upper-p0':1.33,'upper-p1':np.nan,'upper-p2':2}\n",
    "full_res = {}\n",
    "for i, day in tqdm(enumerate(r), desc = 'days'):\n",
    "    # if i == 65:\n",
    "        ls = glob(join(in_dir, '*'+day+'*'))\n",
    "        # print(ls)\n",
    "        res = {}\n",
    "        for file in ls:\n",
    "                name = name_dic[basename(file).replace(day,'')[2:5]]\n",
    "                if name != 'failed array':\n",
    "                    tr = read(file)[0]\n",
    "                    stats = tr.stats\n",
    "                    sps = stats['sampling_rate']\n",
    "                    start = stats['starttime']\n",
    "                    end = stats['endtime']\n",
    "                    channel = stats['channel']\n",
    "                    name_channel = f'{name}-{channel}'\n",
    "                    height = height_dic[name_channel]\n",
    "                    if not np.isnan(height):\n",
    "                        arr = tr.data\n",
    "                        arr = arr * ac_calib\n",
    "                        arr = arr - np.nanmean(arr)\n",
    "                        # power = arr**2\n",
    "                        # power = 1/len(power) * np.cumsum(power)[-1]\n",
    "                        # res[height] = power\n",
    "                        ARR = fft(arr)\n",
    "                        f = fftfreq(arr.size, 1/sps)\n",
    "                        start = int(f1/100*len(ARR))\n",
    "                        end = int(f2/100*len(ARR))\n",
    "                        sub_ARR = ARR[start:end]\n",
    "                        mag = np.abs(sub_ARR**2)\n",
    "                        power = sum(mag)/len(arr)\n",
    "                        res[height] = 2* power/len(arr)\n",
    "        full_res[day] = res"
   ]
  }
 ],
 "metadata": {
  "interpreter": {
   "hash": "6940d578a7f617a97a90d5f2d3366d54a457a5b5c395b139fd93e1f3f5e83508"
  },
  "kernelspec": {
   "display_name": "Python 3.8.8 ('infra')",
   "language": "python",
   "name": "python3"
  },
  "language_info": {
   "codemirror_mode": {
    "name": "ipython",
    "version": 3
   },
   "file_extension": ".py",
   "mimetype": "text/x-python",
   "name": "python",
   "nbconvert_exporter": "python",
   "pygments_lexer": "ipython3",
   "version": "3.8.8"
  },
  "orig_nbformat": 4
 },
 "nbformat": 4,
 "nbformat_minor": 2
}
