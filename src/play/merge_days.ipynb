{
 "cells": [
  {
   "cell_type": "code",
   "execution_count": 1,
   "metadata": {},
   "outputs": [],
   "source": [
    "import os\n",
    "from os.path import join, exists, dirname, basename\n",
    "from glob import glob\n",
    "import pickle\n",
    "import numpy as np\n",
    "import pandas as pd\n",
    "import matplotlib.pyplot as plt"
   ]
  },
  {
   "cell_type": "code",
   "execution_count": 2,
   "metadata": {},
   "outputs": [],
   "source": [
    "data_dir = '/home/zacharykeskinen/Documents/infrasound/array_data'"
   ]
  },
  {
   "cell_type": "code",
   "execution_count": 24,
   "metadata": {},
   "outputs": [],
   "source": [
    "arrays = glob(join(data_dir, '*'))\n",
    "fps = {}\n",
    "for array in arrays:\n",
    "    if 'horizontal' not in array and 'merged' not in array:\n",
    "        fps[basename(array).split('-')[-1]] = sorted(glob(join(array, '*')))"
   ]
  },
  {
   "cell_type": "code",
   "execution_count": 31,
   "metadata": {},
   "outputs": [],
   "source": [
    "height_dic = {'be4-lower_c1':0.33,'be4-lower_c2':0.66, 'be4-lower_c3':1, 'a3m-upper_c1':1.33, 'a3m-upper_c2':None, 'a3m-upper_c3':2}\n",
    "def height_parse(f):\n",
    "    ext = basename(f).split('_')[1].split('.')[0]\n",
    "    parsed = f'{basename(dirname(f))}_{ext}'\n",
    "    return height_dic[parsed]"
   ]
  },
  {
   "cell_type": "code",
   "execution_count": 41,
   "metadata": {},
   "outputs": [],
   "source": [
    "upper_dates = np.unique([basename(d).split('_')[0] for d in fps['upper']])\n",
    "lower_dates = np.unique([basename(d).split('_')[0] for d in fps['lower']])\n",
    "dates = np.append(upper_dates, lower_dates)\n",
    "res = {}\n",
    "for date in dates:\n",
    "    day_fps = {}\n",
    "    for array, searched_fps in fps.items():\n",
    "        arrays_fps = [f for f in searched_fps if date in f]\n",
    "        height_fps = {}\n",
    "        if arrays_fps:\n",
    "            for f in arrays_fps:\n",
    "                height_fps[height_parse(f)] = f\n",
    "            day_fps.update(height_fps)\n",
    "    res[date] = day_fps"
   ]
  },
  {
   "cell_type": "code",
   "execution_count": 48,
   "metadata": {},
   "outputs": [
    {
     "data": {
      "text/plain": [
       "116"
      ]
     },
     "execution_count": 48,
     "metadata": {},
     "output_type": "execute_result"
    }
   ],
   "source": [
    "lower_dates.size"
   ]
  },
  {
   "cell_type": "code",
   "execution_count": 51,
   "metadata": {},
   "outputs": [
    {
     "data": {
      "text/plain": [
       "70"
      ]
     },
     "execution_count": 51,
     "metadata": {},
     "output_type": "execute_result"
    }
   ],
   "source": [
    "np.intersect1d(lower_dates, upper_dates)"
   ]
  },
  {
   "cell_type": "code",
   "execution_count": 47,
   "metadata": {},
   "outputs": [
    {
     "data": {
      "text/plain": [
       "104"
      ]
     },
     "execution_count": 47,
     "metadata": {},
     "output_type": "execute_result"
    }
   ],
   "source": [
    "upper_dates.size"
   ]
  },
  {
   "cell_type": "code",
   "execution_count": 20,
   "metadata": {},
   "outputs": [],
   "source": [
    "with open('/home/zacharykeskinen/Documents/infrasound/array_data/merged/all_days', 'wb') as f:\n",
    "    pickle.dump(res, f)"
   ]
  }
 ],
 "metadata": {
  "interpreter": {
   "hash": "8dde32aaf5d955e9ae5065f15457609f298b442c54899f76b2fa87ddc44ef838"
  },
  "kernelspec": {
   "display_name": "Python 3.10.4 ('infra')",
   "language": "python",
   "name": "python3"
  },
  "language_info": {
   "codemirror_mode": {
    "name": "ipython",
    "version": 3
   },
   "file_extension": ".py",
   "mimetype": "text/x-python",
   "name": "python",
   "nbconvert_exporter": "python",
   "pygments_lexer": "ipython3",
   "version": "3.10.4"
  },
  "orig_nbformat": 4
 },
 "nbformat": 4,
 "nbformat_minor": 2
}
