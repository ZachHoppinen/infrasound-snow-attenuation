{
 "cells": [
  {
   "cell_type": "code",
   "execution_count": 1,
   "metadata": {},
   "outputs": [
    {
     "data": {
      "text/plain": [
       "'Script converts all mseed files into numpy array. Each array is detrended by fitting a linear function and subtracting that line to remove the DC offset.'"
      ]
     },
     "execution_count": 1,
     "metadata": {},
     "output_type": "execute_result"
    }
   ],
   "source": [
    "\"\"\"Script converts all mseed files into numpy array. Each array is detrended by fitting a linear function and subtracting that line to remove the DC offset.\"\"\""
   ]
  },
  {
   "cell_type": "code",
   "execution_count": 2,
   "metadata": {},
   "outputs": [],
   "source": [
    "import obspy\n",
    "\n",
    "import numpy as np\n",
    "import pandas as pd\n",
    "from glob import glob\n",
    "import os\n",
    "from os.path import join, basename, dirname, exists\n",
    "import re\n",
    "from fastparquet import write"
   ]
  },
  {
   "cell_type": "code",
   "execution_count": 3,
   "metadata": {},
   "outputs": [],
   "source": [
    "import matplotlib.pyplot as plt\n",
    "from datetime import datetime"
   ]
  },
  {
   "cell_type": "code",
   "execution_count": 4,
   "metadata": {},
   "outputs": [],
   "source": [
    "ac_calib = 8.2928e-05\n",
    "name_dic = {'be4':'lower','a3m':'upper','ad8':'horizontal'}"
   ]
  },
  {
   "cell_type": "code",
   "execution_count": 5,
   "metadata": {},
   "outputs": [],
   "source": [
    "local_data_dir = '/home/zacharykeskinen/Documents/infrasound/data/banner/infrasound/processed'\n",
    "target_dir = '/home/zacharykeskinen/Documents/infrasound/array_data'\n",
    "assert exists(target_dir)"
   ]
  },
  {
   "cell_type": "code",
   "execution_count": 25,
   "metadata": {},
   "outputs": [
    {
     "ename": "RuntimeError",
     "evalue": "Compression 'SNAPPY' not available.  Options: ['BROTLI', 'GZIP', 'UNCOMPRESSED']",
     "output_type": "error",
     "traceback": [
      "\u001b[0;31m---------------------------------------------------------------------------\u001b[0m",
      "\u001b[0;31mRuntimeError\u001b[0m                              Traceback (most recent call last)",
      "\u001b[1;32m/home/zacharykeskinen/Documents/infrasound/src/data_conversion/mseed_to_numpy.ipynb Cell 6'\u001b[0m in \u001b[0;36m<module>\u001b[0;34m\u001b[0m\n\u001b[1;32m     <a href='vscode-notebook-cell:/home/zacharykeskinen/Documents/infrasound/src/data_conversion/mseed_to_numpy.ipynb#ch0000006?line=19'>20</a>\u001b[0m \u001b[39m## Parquet\u001b[39;00m\n\u001b[1;32m     <a href='vscode-notebook-cell:/home/zacharykeskinen/Documents/infrasound/src/data_conversion/mseed_to_numpy.ipynb#ch0000006?line=20'>21</a>\u001b[0m channel \u001b[39m=\u001b[39m \u001b[39mint\u001b[39m(stats\u001b[39m.\u001b[39mchannel\u001b[39m.\u001b[39mreplace(\u001b[39m'\u001b[39m\u001b[39mp\u001b[39m\u001b[39m'\u001b[39m,\u001b[39m'\u001b[39m\u001b[39m'\u001b[39m)) \u001b[39m+\u001b[39m \u001b[39m1\u001b[39m\n\u001b[0;32m---> <a href='vscode-notebook-cell:/home/zacharykeskinen/Documents/infrasound/src/data_conversion/mseed_to_numpy.ipynb#ch0000006?line=21'>22</a>\u001b[0m write(join(array_dir, \u001b[39mf\u001b[39;49m\u001b[39m'\u001b[39;49m\u001b[39m{\u001b[39;49;00mstats\u001b[39m.\u001b[39;49mstarttime\u001b[39m.\u001b[39;49mdate\u001b[39m}\u001b[39;49;00m\u001b[39m_c\u001b[39;49m\u001b[39m{\u001b[39;49;00mchannel\u001b[39m}\u001b[39;49;00m\u001b[39m.parq\u001b[39;49m\u001b[39m'\u001b[39;49m), res, compression \u001b[39m=\u001b[39;49m \u001b[39m'\u001b[39;49m\u001b[39mSNAPPY\u001b[39;49m\u001b[39m'\u001b[39;49m)\n",
      "File \u001b[0;32m~/anaconda3/envs/infra/lib/python3.8/site-packages/fastparquet/writer.py:938\u001b[0m, in \u001b[0;36mwrite\u001b[0;34m(filename, data, row_group_offsets, compression, file_scheme, open_with, mkdirs, has_nulls, write_index, partition_on, fixed_text, append, object_encoding, times)\u001b[0m\n\u001b[1;32m    <a href='file:///home/zacharykeskinen/anaconda3/envs/infra/lib/python3.8/site-packages/fastparquet/writer.py?line=932'>933</a>\u001b[0m fmd \u001b[39m=\u001b[39m make_metadata(data, has_nulls\u001b[39m=\u001b[39mhas_nulls, ignore_columns\u001b[39m=\u001b[39mignore,\n\u001b[1;32m    <a href='file:///home/zacharykeskinen/anaconda3/envs/infra/lib/python3.8/site-packages/fastparquet/writer.py?line=933'>934</a>\u001b[0m                     fixed_text\u001b[39m=\u001b[39mfixed_text, object_encoding\u001b[39m=\u001b[39mobject_encoding,\n\u001b[1;32m    <a href='file:///home/zacharykeskinen/anaconda3/envs/infra/lib/python3.8/site-packages/fastparquet/writer.py?line=934'>935</a>\u001b[0m                     times\u001b[39m=\u001b[39mtimes, index_cols\u001b[39m=\u001b[39mindex_cols, partition_cols\u001b[39m=\u001b[39mpartition_on)\n\u001b[1;32m    <a href='file:///home/zacharykeskinen/anaconda3/envs/infra/lib/python3.8/site-packages/fastparquet/writer.py?line=936'>937</a>\u001b[0m \u001b[39mif\u001b[39;00m file_scheme \u001b[39m==\u001b[39m \u001b[39m'\u001b[39m\u001b[39msimple\u001b[39m\u001b[39m'\u001b[39m:\n\u001b[0;32m--> <a href='file:///home/zacharykeskinen/anaconda3/envs/infra/lib/python3.8/site-packages/fastparquet/writer.py?line=937'>938</a>\u001b[0m     write_simple(filename, data, fmd, row_group_offsets,\n\u001b[1;32m    <a href='file:///home/zacharykeskinen/anaconda3/envs/infra/lib/python3.8/site-packages/fastparquet/writer.py?line=938'>939</a>\u001b[0m                  compression, open_with, has_nulls, append)\n\u001b[1;32m    <a href='file:///home/zacharykeskinen/anaconda3/envs/infra/lib/python3.8/site-packages/fastparquet/writer.py?line=939'>940</a>\u001b[0m \u001b[39melif\u001b[39;00m file_scheme \u001b[39min\u001b[39;00m [\u001b[39m'\u001b[39m\u001b[39mhive\u001b[39m\u001b[39m'\u001b[39m, \u001b[39m'\u001b[39m\u001b[39mdrill\u001b[39m\u001b[39m'\u001b[39m]:\n\u001b[1;32m    <a href='file:///home/zacharykeskinen/anaconda3/envs/infra/lib/python3.8/site-packages/fastparquet/writer.py?line=940'>941</a>\u001b[0m     \u001b[39mif\u001b[39;00m append:\n",
      "File \u001b[0;32m~/anaconda3/envs/infra/lib/python3.8/site-packages/fastparquet/writer.py:802\u001b[0m, in \u001b[0;36mwrite_simple\u001b[0;34m(fn, data, fmd, row_group_offsets, compression, open_with, has_nulls, append)\u001b[0m\n\u001b[1;32m    <a href='file:///home/zacharykeskinen/anaconda3/envs/infra/lib/python3.8/site-packages/fastparquet/writer.py?line=798'>799</a>\u001b[0m \u001b[39mfor\u001b[39;00m i, start \u001b[39min\u001b[39;00m \u001b[39menumerate\u001b[39m(row_group_offsets):\n\u001b[1;32m    <a href='file:///home/zacharykeskinen/anaconda3/envs/infra/lib/python3.8/site-packages/fastparquet/writer.py?line=799'>800</a>\u001b[0m     end \u001b[39m=\u001b[39m (row_group_offsets[i\u001b[39m+\u001b[39m\u001b[39m1\u001b[39m] \u001b[39mif\u001b[39;00m i \u001b[39m<\u001b[39m (\u001b[39mlen\u001b[39m(row_group_offsets) \u001b[39m-\u001b[39m \u001b[39m1\u001b[39m)\n\u001b[1;32m    <a href='file:///home/zacharykeskinen/anaconda3/envs/infra/lib/python3.8/site-packages/fastparquet/writer.py?line=800'>801</a>\u001b[0m            \u001b[39melse\u001b[39;00m \u001b[39mNone\u001b[39;00m)\n\u001b[0;32m--> <a href='file:///home/zacharykeskinen/anaconda3/envs/infra/lib/python3.8/site-packages/fastparquet/writer.py?line=801'>802</a>\u001b[0m     rg \u001b[39m=\u001b[39m make_row_group(f, data[start:end], fmd\u001b[39m.\u001b[39;49mschema,\n\u001b[1;32m    <a href='file:///home/zacharykeskinen/anaconda3/envs/infra/lib/python3.8/site-packages/fastparquet/writer.py?line=802'>803</a>\u001b[0m                         compression\u001b[39m=\u001b[39;49mcompression)\n\u001b[1;32m    <a href='file:///home/zacharykeskinen/anaconda3/envs/infra/lib/python3.8/site-packages/fastparquet/writer.py?line=803'>804</a>\u001b[0m     \u001b[39mif\u001b[39;00m rg \u001b[39mis\u001b[39;00m \u001b[39mnot\u001b[39;00m \u001b[39mNone\u001b[39;00m:\n\u001b[1;32m    <a href='file:///home/zacharykeskinen/anaconda3/envs/infra/lib/python3.8/site-packages/fastparquet/writer.py?line=804'>805</a>\u001b[0m         fmd\u001b[39m.\u001b[39mrow_groups\u001b[39m.\u001b[39mappend(rg)\n",
      "File \u001b[0;32m~/anaconda3/envs/infra/lib/python3.8/site-packages/fastparquet/writer.py:671\u001b[0m, in \u001b[0;36mmake_row_group\u001b[0;34m(f, data, schema, compression)\u001b[0m\n\u001b[1;32m    <a href='file:///home/zacharykeskinen/anaconda3/envs/infra/lib/python3.8/site-packages/fastparquet/writer.py?line=668'>669</a>\u001b[0m         \u001b[39melse\u001b[39;00m:\n\u001b[1;32m    <a href='file:///home/zacharykeskinen/anaconda3/envs/infra/lib/python3.8/site-packages/fastparquet/writer.py?line=669'>670</a>\u001b[0m             comp \u001b[39m=\u001b[39m compression\n\u001b[0;32m--> <a href='file:///home/zacharykeskinen/anaconda3/envs/infra/lib/python3.8/site-packages/fastparquet/writer.py?line=670'>671</a>\u001b[0m         chunk \u001b[39m=\u001b[39m write_column(f, data[column\u001b[39m.\u001b[39;49mname], column,\n\u001b[1;32m    <a href='file:///home/zacharykeskinen/anaconda3/envs/infra/lib/python3.8/site-packages/fastparquet/writer.py?line=671'>672</a>\u001b[0m                              compression\u001b[39m=\u001b[39;49mcomp)\n\u001b[1;32m    <a href='file:///home/zacharykeskinen/anaconda3/envs/infra/lib/python3.8/site-packages/fastparquet/writer.py?line=672'>673</a>\u001b[0m         rg\u001b[39m.\u001b[39mcolumns\u001b[39m.\u001b[39mappend(chunk)\n\u001b[1;32m    <a href='file:///home/zacharykeskinen/anaconda3/envs/infra/lib/python3.8/site-packages/fastparquet/writer.py?line=673'>674</a>\u001b[0m rg\u001b[39m.\u001b[39mtotal_byte_size \u001b[39m=\u001b[39m \u001b[39msum\u001b[39m([c\u001b[39m.\u001b[39mmeta_data\u001b[39m.\u001b[39mtotal_uncompressed_size \u001b[39mfor\u001b[39;00m c \u001b[39min\u001b[39;00m\n\u001b[1;32m    <a href='file:///home/zacharykeskinen/anaconda3/envs/infra/lib/python3.8/site-packages/fastparquet/writer.py?line=674'>675</a>\u001b[0m                           rg\u001b[39m.\u001b[39mcolumns])\n",
      "File \u001b[0;32m~/anaconda3/envs/infra/lib/python3.8/site-packages/fastparquet/writer.py:589\u001b[0m, in \u001b[0;36mwrite_column\u001b[0;34m(f, data, selement, compression)\u001b[0m\n\u001b[1;32m    <a href='file:///home/zacharykeskinen/anaconda3/envs/infra/lib/python3.8/site-packages/fastparquet/writer.py?line=585'>586</a>\u001b[0m l0 \u001b[39m=\u001b[39m \u001b[39mlen\u001b[39m(bdata)\n\u001b[1;32m    <a href='file:///home/zacharykeskinen/anaconda3/envs/infra/lib/python3.8/site-packages/fastparquet/writer.py?line=587'>588</a>\u001b[0m \u001b[39mif\u001b[39;00m compression:\n\u001b[0;32m--> <a href='file:///home/zacharykeskinen/anaconda3/envs/infra/lib/python3.8/site-packages/fastparquet/writer.py?line=588'>589</a>\u001b[0m     bdata \u001b[39m=\u001b[39m compress_data(bdata, compression)\n\u001b[1;32m    <a href='file:///home/zacharykeskinen/anaconda3/envs/infra/lib/python3.8/site-packages/fastparquet/writer.py?line=589'>590</a>\u001b[0m     l1 \u001b[39m=\u001b[39m \u001b[39mlen\u001b[39m(bdata)\n\u001b[1;32m    <a href='file:///home/zacharykeskinen/anaconda3/envs/infra/lib/python3.8/site-packages/fastparquet/writer.py?line=590'>591</a>\u001b[0m \u001b[39melse\u001b[39;00m:\n",
      "File \u001b[0;32m~/anaconda3/envs/infra/lib/python3.8/site-packages/fastparquet/compression.py:113\u001b[0m, in \u001b[0;36mcompress_data\u001b[0;34m(data, compression)\u001b[0m\n\u001b[1;32m    <a href='file:///home/zacharykeskinen/anaconda3/envs/infra/lib/python3.8/site-packages/fastparquet/compression.py?line=109'>110</a>\u001b[0m     algorithm \u001b[39m=\u001b[39m rev_map[compression]\n\u001b[1;32m    <a href='file:///home/zacharykeskinen/anaconda3/envs/infra/lib/python3.8/site-packages/fastparquet/compression.py?line=111'>112</a>\u001b[0m \u001b[39mif\u001b[39;00m algorithm\u001b[39m.\u001b[39mupper() \u001b[39mnot\u001b[39;00m \u001b[39min\u001b[39;00m compressions:\n\u001b[0;32m--> <a href='file:///home/zacharykeskinen/anaconda3/envs/infra/lib/python3.8/site-packages/fastparquet/compression.py?line=112'>113</a>\u001b[0m     \u001b[39mraise\u001b[39;00m \u001b[39mRuntimeError\u001b[39;00m(\u001b[39m\"\u001b[39m\u001b[39mCompression \u001b[39m\u001b[39m'\u001b[39m\u001b[39m%s\u001b[39;00m\u001b[39m'\u001b[39m\u001b[39m not available.  Options: \u001b[39m\u001b[39m%s\u001b[39;00m\u001b[39m\"\u001b[39m \u001b[39m%\u001b[39m\n\u001b[1;32m    <a href='file:///home/zacharykeskinen/anaconda3/envs/infra/lib/python3.8/site-packages/fastparquet/compression.py?line=113'>114</a>\u001b[0m             (algorithm, \u001b[39msorted\u001b[39m(compressions)))\n\u001b[1;32m    <a href='file:///home/zacharykeskinen/anaconda3/envs/infra/lib/python3.8/site-packages/fastparquet/compression.py?line=114'>115</a>\u001b[0m \u001b[39mif\u001b[39;00m args \u001b[39mis\u001b[39;00m \u001b[39mNone\u001b[39;00m:\n\u001b[1;32m    <a href='file:///home/zacharykeskinen/anaconda3/envs/infra/lib/python3.8/site-packages/fastparquet/compression.py?line=115'>116</a>\u001b[0m     \u001b[39mreturn\u001b[39;00m compressions[algorithm\u001b[39m.\u001b[39mupper()](data)\n",
      "\u001b[0;31mRuntimeError\u001b[0m: Compression 'SNAPPY' not available.  Options: ['BROTLI', 'GZIP', 'UNCOMPRESSED']"
     ]
    }
   ],
   "source": [
    "fps = glob(join(local_data_dir, '*'))\n",
    "fps = [f for f in fps if '.1.' not in f]\n",
    "array_names = np.unique([basename(f)[2:5] for f in fps])\n",
    "assert set(array_names) == set(name_dic.keys()), 'Missing an array in dict?'\n",
    "for ext, desc in name_dic.items():\n",
    "    array_dir = join(target_dir, f'{ext}-{desc}')\n",
    "    os.makedirs(array_dir, exist_ok= True)\n",
    "    array_fps = sorted([f for f in fps if ext in f])\n",
    "    if ext != 'ad8':\n",
    "        for i, fp in enumerate(array_fps):\n",
    "            if i < 4:\n",
    "                tr = obspy.read(fp)[0]\n",
    "                tr.detrend(\"linear\")\n",
    "                arr = np.array(tr.data * ac_calib)\n",
    "                t = [datetime.fromtimestamp(t) for t in tr.times(\"timestamp\")]\n",
    "                stats = tr.stats\n",
    "                res = pd.DataFrame(arr, index = t, columns = ['pa'])\n",
    "                res.index = res.index.tz_localize('US/Mountain').tz_convert('UTC')\n",
    "\n",
    "                ## Parquet\n",
    "                channel = int(stats.channel.replace('p','')) + 1\n",
    "                write(join(array_dir, f'{stats.starttime.date}_c{channel}.parq'), res, compression = 'GZIP')"
   ]
  },
  {
   "cell_type": "code",
   "execution_count": 21,
   "metadata": {},
   "outputs": [],
   "source": [
    "res = pd.read_parquet('/home/zacharykeskinen/Documents/infrasound/array_data/be4-lower/2021-12-02_c1.parq')"
   ]
  },
  {
   "cell_type": "code",
   "execution_count": 22,
   "metadata": {},
   "outputs": [
    {
     "data": {
      "text/html": [
       "<div>\n",
       "<style scoped>\n",
       "    .dataframe tbody tr th:only-of-type {\n",
       "        vertical-align: middle;\n",
       "    }\n",
       "\n",
       "    .dataframe tbody tr th {\n",
       "        vertical-align: top;\n",
       "    }\n",
       "\n",
       "    .dataframe thead th {\n",
       "        text-align: right;\n",
       "    }\n",
       "</style>\n",
       "<table border=\"1\" class=\"dataframe\">\n",
       "  <thead>\n",
       "    <tr style=\"text-align: right;\">\n",
       "      <th></th>\n",
       "      <th>pa</th>\n",
       "    </tr>\n",
       "    <tr>\n",
       "      <th>index</th>\n",
       "      <th></th>\n",
       "    </tr>\n",
       "  </thead>\n",
       "  <tbody>\n",
       "    <tr>\n",
       "      <th>2021-12-02 22:20:13.975000+00:00</th>\n",
       "      <td>-11.916051</td>\n",
       "    </tr>\n",
       "    <tr>\n",
       "      <th>2021-12-02 22:20:13.980000+00:00</th>\n",
       "      <td>-11.902609</td>\n",
       "    </tr>\n",
       "    <tr>\n",
       "      <th>2021-12-02 22:20:13.985000+00:00</th>\n",
       "      <td>-11.908074</td>\n",
       "    </tr>\n",
       "    <tr>\n",
       "      <th>2021-12-02 22:20:13.990000+00:00</th>\n",
       "      <td>-11.922164</td>\n",
       "    </tr>\n",
       "    <tr>\n",
       "      <th>2021-12-02 22:20:13.995000+00:00</th>\n",
       "      <td>-11.921659</td>\n",
       "    </tr>\n",
       "    <tr>\n",
       "      <th>...</th>\n",
       "      <td>...</td>\n",
       "    </tr>\n",
       "    <tr>\n",
       "      <th>2021-12-02 23:59:59.975000+00:00</th>\n",
       "      <td>2.179475</td>\n",
       "    </tr>\n",
       "    <tr>\n",
       "      <th>2021-12-02 23:59:59.980000+00:00</th>\n",
       "      <td>2.177409</td>\n",
       "    </tr>\n",
       "    <tr>\n",
       "      <th>2021-12-02 23:59:59.985000+00:00</th>\n",
       "      <td>2.178578</td>\n",
       "    </tr>\n",
       "    <tr>\n",
       "      <th>2021-12-02 23:59:59.990000+00:00</th>\n",
       "      <td>2.181156</td>\n",
       "    </tr>\n",
       "    <tr>\n",
       "      <th>2021-12-02 23:59:59.995000+00:00</th>\n",
       "      <td>2.181993</td>\n",
       "    </tr>\n",
       "  </tbody>\n",
       "</table>\n",
       "<p>1197205 rows × 1 columns</p>\n",
       "</div>"
      ],
      "text/plain": [
       "                                         pa\n",
       "index                                      \n",
       "2021-12-02 22:20:13.975000+00:00 -11.916051\n",
       "2021-12-02 22:20:13.980000+00:00 -11.902609\n",
       "2021-12-02 22:20:13.985000+00:00 -11.908074\n",
       "2021-12-02 22:20:13.990000+00:00 -11.922164\n",
       "2021-12-02 22:20:13.995000+00:00 -11.921659\n",
       "...                                     ...\n",
       "2021-12-02 23:59:59.975000+00:00   2.179475\n",
       "2021-12-02 23:59:59.980000+00:00   2.177409\n",
       "2021-12-02 23:59:59.985000+00:00   2.178578\n",
       "2021-12-02 23:59:59.990000+00:00   2.181156\n",
       "2021-12-02 23:59:59.995000+00:00   2.181993\n",
       "\n",
       "[1197205 rows x 1 columns]"
      ]
     },
     "execution_count": 22,
     "metadata": {},
     "output_type": "execute_result"
    }
   ],
   "source": [
    "res"
   ]
  },
  {
   "cell_type": "code",
   "execution_count": 17,
   "metadata": {},
   "outputs": [
    {
     "data": {
      "text/plain": [
       "DatetimeIndex(['2022-01-21 19:10:57.975000+00:00',\n",
       "               '2022-01-21 19:10:57.980000+00:00',\n",
       "               '2022-01-21 19:10:57.985000+00:00',\n",
       "               '2022-01-21 19:10:57.990000+00:00',\n",
       "               '2022-01-21 19:10:57.995000+00:00',\n",
       "                      '2022-01-21 19:10:58+00:00',\n",
       "               '2022-01-21 19:10:58.005000+00:00',\n",
       "               '2022-01-21 19:10:58.010000+00:00',\n",
       "               '2022-01-21 19:10:58.015000+00:00',\n",
       "               '2022-01-21 19:10:58.020000+00:00',\n",
       "               ...\n",
       "               '2022-01-21 23:59:59.950000+00:00',\n",
       "               '2022-01-21 23:59:59.955000+00:00',\n",
       "               '2022-01-21 23:59:59.960000+00:00',\n",
       "               '2022-01-21 23:59:59.965000+00:00',\n",
       "               '2022-01-21 23:59:59.970000+00:00',\n",
       "               '2022-01-21 23:59:59.975000+00:00',\n",
       "               '2022-01-21 23:59:59.980000+00:00',\n",
       "               '2022-01-21 23:59:59.985000+00:00',\n",
       "               '2022-01-21 23:59:59.990000+00:00',\n",
       "               '2022-01-21 23:59:59.995000+00:00'],\n",
       "              dtype='datetime64[ns, UTC]', length=3468405, freq=None)"
      ]
     },
     "execution_count": 17,
     "metadata": {},
     "output_type": "execute_result"
    }
   ],
   "source": [
    "res.index.tz_localize('US/Mountain').tz_convert('UTC')"
   ]
  },
  {
   "cell_type": "code",
   "execution_count": 12,
   "metadata": {},
   "outputs": [],
   "source": [
    "from obspy.core import UTCDateTime"
   ]
  },
  {
   "cell_type": "code",
   "execution_count": 13,
   "metadata": {},
   "outputs": [
    {
     "data": {
      "text/plain": [
       "2022-01-21T19:10:57.975000Z"
      ]
     },
     "execution_count": 13,
     "metadata": {},
     "output_type": "execute_result"
    }
   ],
   "source": [
    "tr.stats.starttime"
   ]
  },
  {
   "cell_type": "code",
   "execution_count": 8,
   "metadata": {},
   "outputs": [
    {
     "data": {
      "text/plain": [
       "array([  0.00000000e+00,   5.00000000e-03,   1.00000000e-02, ...,\n",
       "         1.73420100e+04,   1.73420150e+04,   1.73420200e+04])"
      ]
     },
     "execution_count": 8,
     "metadata": {},
     "output_type": "execute_result"
    }
   ],
   "source": [
    "tr.times(reftime=stats.starttime)"
   ]
  },
  {
   "cell_type": "code",
   "execution_count": 9,
   "metadata": {},
   "outputs": [
    {
     "data": {
      "text/plain": [
       "array([  0.00000000e+00,   5.00000000e-03,   1.00000000e-02, ...,\n",
       "         1.73420100e+04,   1.73420150e+04,   1.73420200e+04])"
      ]
     },
     "execution_count": 9,
     "metadata": {},
     "output_type": "execute_result"
    }
   ],
   "source": [
    "tr.times(reftime=UTCDateTime(tr.stats.starttime))"
   ]
  },
  {
   "cell_type": "code",
   "execution_count": 14,
   "metadata": {},
   "outputs": [
    {
     "data": {
      "text/plain": [
       "array([UTCDateTime(2022, 1, 21, 19, 10, 57, 975000),\n",
       "       UTCDateTime(2022, 1, 21, 19, 10, 57, 980000),\n",
       "       UTCDateTime(2022, 1, 21, 19, 10, 57, 985000), ...,\n",
       "       UTCDateTime(2022, 1, 21, 23, 59, 59, 985000),\n",
       "       UTCDateTime(2022, 1, 21, 23, 59, 59, 990000),\n",
       "       UTCDateTime(2022, 1, 21, 23, 59, 59, 995000)], dtype=object)"
      ]
     },
     "execution_count": 14,
     "metadata": {},
     "output_type": "execute_result"
    }
   ],
   "source": [
    "tr.times(type = 'utcdatetime')"
   ]
  },
  {
   "cell_type": "code",
   "execution_count": 11,
   "metadata": {},
   "outputs": [
    {
     "data": {
      "text/plain": [
       "         network: \n",
       "         station: c0A3M\n",
       "        location: \n",
       "         channel: p2\n",
       "       starttime: 2022-01-21T19:10:57.975000Z\n",
       "         endtime: 2022-01-21T23:59:59.995000Z\n",
       "   sampling_rate: 200.0\n",
       "           delta: 0.005\n",
       "            npts: 3468405\n",
       "           calib: 1.0\n",
       "         _format: MSEED\n",
       "           mseed: AttribDict({'dataquality': 'D', 'number_of_records': 1027, 'encoding': 'STEIM1', 'byteorder': '<', 'record_length': 4096, 'filesize': 4206592})\n",
       "      processing: [\"ObsPy 1.2.2: detrend(options={}::type='linear')\"]"
      ]
     },
     "execution_count": 11,
     "metadata": {},
     "output_type": "execute_result"
    }
   ],
   "source": [
    "tr.stats"
   ]
  },
  {
   "cell_type": "code",
   "execution_count": null,
   "metadata": {},
   "outputs": [],
   "source": []
  }
 ],
 "metadata": {
  "interpreter": {
   "hash": "6940d578a7f617a97a90d5f2d3366d54a457a5b5c395b139fd93e1f3f5e83508"
  },
  "kernelspec": {
   "display_name": "Python 3.8.8 ('infra')",
   "language": "python",
   "name": "python3"
  },
  "language_info": {
   "codemirror_mode": {
    "name": "ipython",
    "version": 3
   },
   "file_extension": ".py",
   "mimetype": "text/x-python",
   "name": "python",
   "nbconvert_exporter": "python",
   "pygments_lexer": "ipython3",
   "version": "3.8.8"
  },
  "orig_nbformat": 4
 },
 "nbformat": 4,
 "nbformat_minor": 2
}
