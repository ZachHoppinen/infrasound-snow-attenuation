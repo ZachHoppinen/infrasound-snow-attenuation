{
 "cells": [
  {
   "cell_type": "code",
   "execution_count": 1,
   "metadata": {},
   "outputs": [],
   "source": [
    "import pickle\n",
    "from os.path import join\n",
    "import matplotlib.pyplot as plt\n",
    "import seaborn as sns\n",
    "from glob import glob\n",
    "import numpy as np\n",
    "import pandas as pd"
   ]
  },
  {
   "cell_type": "code",
   "execution_count": 2,
   "metadata": {},
   "outputs": [
    {
     "ename": "ValueError",
     "evalue": "No objects to concatenate",
     "output_type": "error",
     "traceback": [
      "\u001b[0;31m---------------------------------------------------------------------------\u001b[0m",
      "\u001b[0;31mValueError\u001b[0m                                Traceback (most recent call last)",
      "\u001b[1;32m/Users/zachkeskinen/Documents/infrasound/src/wind_analysis/wind_vis.ipynb Cell 2\u001b[0m in \u001b[0;36m<cell line: 9>\u001b[0;34m()\u001b[0m\n\u001b[1;32m      <a href='vscode-notebook-cell:/Users/zachkeskinen/Documents/infrasound/src/wind_analysis/wind_vis.ipynb#W1sZmlsZQ%3D%3D?line=6'>7</a>\u001b[0m         df \u001b[39m=\u001b[39m pickle\u001b[39m.\u001b[39mload(f)\n\u001b[1;32m      <a href='vscode-notebook-cell:/Users/zachkeskinen/Documents/infrasound/src/wind_analysis/wind_vis.ipynb#W1sZmlsZQ%3D%3D?line=7'>8</a>\u001b[0m     super_x\u001b[39m.\u001b[39mappend(df)\n\u001b[0;32m----> <a href='vscode-notebook-cell:/Users/zachkeskinen/Documents/infrasound/src/wind_analysis/wind_vis.ipynb#W1sZmlsZQ%3D%3D?line=8'>9</a>\u001b[0m res \u001b[39m=\u001b[39m pd\u001b[39m.\u001b[39;49mconcat(super_x)\n\u001b[1;32m     <a href='vscode-notebook-cell:/Users/zachkeskinen/Documents/infrasound/src/wind_analysis/wind_vis.ipynb#W1sZmlsZQ%3D%3D?line=9'>10</a>\u001b[0m res[\u001b[39m'\u001b[39m\u001b[39mwind_cat\u001b[39m\u001b[39m'\u001b[39m] \u001b[39m=\u001b[39m pd\u001b[39m.\u001b[39mcut(res[\u001b[39m'\u001b[39m\u001b[39mwind\u001b[39m\u001b[39m'\u001b[39m], bins \u001b[39m=\u001b[39m [\u001b[39m-\u001b[39m\u001b[39m0.1\u001b[39m,\u001b[39m3\u001b[39m,\u001b[39m5\u001b[39m,\u001b[39m11\u001b[39m], labels \u001b[39m=\u001b[39m [\u001b[39m'\u001b[39m\u001b[39mlow-wind\u001b[39m\u001b[39m'\u001b[39m,\u001b[39m'\u001b[39m\u001b[39mmed-wind\u001b[39m\u001b[39m'\u001b[39m,\u001b[39m'\u001b[39m\u001b[39mhigh-wind\u001b[39m\u001b[39m'\u001b[39m])\n\u001b[1;32m     <a href='vscode-notebook-cell:/Users/zachkeskinen/Documents/infrasound/src/wind_analysis/wind_vis.ipynb#W1sZmlsZQ%3D%3D?line=10'>11</a>\u001b[0m \u001b[39mwith\u001b[39;00m \u001b[39mopen\u001b[39m(join(result_dir, \u001b[39m'\u001b[39m\u001b[39mwindv2.pkl\u001b[39m\u001b[39m'\u001b[39m), \u001b[39m'\u001b[39m\u001b[39mwb\u001b[39m\u001b[39m'\u001b[39m) \u001b[39mas\u001b[39;00m f:\n",
      "File \u001b[0;32m~/miniconda3/envs/infra/lib/python3.10/site-packages/pandas/util/_decorators.py:311\u001b[0m, in \u001b[0;36mdeprecate_nonkeyword_arguments.<locals>.decorate.<locals>.wrapper\u001b[0;34m(*args, **kwargs)\u001b[0m\n\u001b[1;32m    305\u001b[0m \u001b[39mif\u001b[39;00m \u001b[39mlen\u001b[39m(args) \u001b[39m>\u001b[39m num_allow_args:\n\u001b[1;32m    306\u001b[0m     warnings\u001b[39m.\u001b[39mwarn(\n\u001b[1;32m    307\u001b[0m         msg\u001b[39m.\u001b[39mformat(arguments\u001b[39m=\u001b[39marguments),\n\u001b[1;32m    308\u001b[0m         \u001b[39mFutureWarning\u001b[39;00m,\n\u001b[1;32m    309\u001b[0m         stacklevel\u001b[39m=\u001b[39mstacklevel,\n\u001b[1;32m    310\u001b[0m     )\n\u001b[0;32m--> 311\u001b[0m \u001b[39mreturn\u001b[39;00m func(\u001b[39m*\u001b[39;49margs, \u001b[39m*\u001b[39;49m\u001b[39m*\u001b[39;49mkwargs)\n",
      "File \u001b[0;32m~/miniconda3/envs/infra/lib/python3.10/site-packages/pandas/core/reshape/concat.py:347\u001b[0m, in \u001b[0;36mconcat\u001b[0;34m(objs, axis, join, ignore_index, keys, levels, names, verify_integrity, sort, copy)\u001b[0m\n\u001b[1;32m    143\u001b[0m \u001b[39m@deprecate_nonkeyword_arguments\u001b[39m(version\u001b[39m=\u001b[39m\u001b[39mNone\u001b[39;00m, allowed_args\u001b[39m=\u001b[39m[\u001b[39m\"\u001b[39m\u001b[39mobjs\u001b[39m\u001b[39m\"\u001b[39m])\n\u001b[1;32m    144\u001b[0m \u001b[39mdef\u001b[39;00m \u001b[39mconcat\u001b[39m(\n\u001b[1;32m    145\u001b[0m     objs: Iterable[NDFrame] \u001b[39m|\u001b[39m Mapping[Hashable, NDFrame],\n\u001b[0;32m   (...)\u001b[0m\n\u001b[1;32m    154\u001b[0m     copy: \u001b[39mbool\u001b[39m \u001b[39m=\u001b[39m \u001b[39mTrue\u001b[39;00m,\n\u001b[1;32m    155\u001b[0m ) \u001b[39m-\u001b[39m\u001b[39m>\u001b[39m DataFrame \u001b[39m|\u001b[39m Series:\n\u001b[1;32m    156\u001b[0m     \u001b[39m\"\"\"\u001b[39;00m\n\u001b[1;32m    157\u001b[0m \u001b[39m    Concatenate pandas objects along a particular axis with optional set logic\u001b[39;00m\n\u001b[1;32m    158\u001b[0m \u001b[39m    along the other axes.\u001b[39;00m\n\u001b[0;32m   (...)\u001b[0m\n\u001b[1;32m    345\u001b[0m \u001b[39m    ValueError: Indexes have overlapping values: ['a']\u001b[39;00m\n\u001b[1;32m    346\u001b[0m \u001b[39m    \"\"\"\u001b[39;00m\n\u001b[0;32m--> 347\u001b[0m     op \u001b[39m=\u001b[39m _Concatenator(\n\u001b[1;32m    348\u001b[0m         objs,\n\u001b[1;32m    349\u001b[0m         axis\u001b[39m=\u001b[39;49maxis,\n\u001b[1;32m    350\u001b[0m         ignore_index\u001b[39m=\u001b[39;49mignore_index,\n\u001b[1;32m    351\u001b[0m         join\u001b[39m=\u001b[39;49mjoin,\n\u001b[1;32m    352\u001b[0m         keys\u001b[39m=\u001b[39;49mkeys,\n\u001b[1;32m    353\u001b[0m         levels\u001b[39m=\u001b[39;49mlevels,\n\u001b[1;32m    354\u001b[0m         names\u001b[39m=\u001b[39;49mnames,\n\u001b[1;32m    355\u001b[0m         verify_integrity\u001b[39m=\u001b[39;49mverify_integrity,\n\u001b[1;32m    356\u001b[0m         copy\u001b[39m=\u001b[39;49mcopy,\n\u001b[1;32m    357\u001b[0m         sort\u001b[39m=\u001b[39;49msort,\n\u001b[1;32m    358\u001b[0m     )\n\u001b[1;32m    360\u001b[0m     \u001b[39mreturn\u001b[39;00m op\u001b[39m.\u001b[39mget_result()\n",
      "File \u001b[0;32m~/miniconda3/envs/infra/lib/python3.10/site-packages/pandas/core/reshape/concat.py:404\u001b[0m, in \u001b[0;36m_Concatenator.__init__\u001b[0;34m(self, objs, axis, join, keys, levels, names, ignore_index, verify_integrity, copy, sort)\u001b[0m\n\u001b[1;32m    401\u001b[0m     objs \u001b[39m=\u001b[39m \u001b[39mlist\u001b[39m(objs)\n\u001b[1;32m    403\u001b[0m \u001b[39mif\u001b[39;00m \u001b[39mlen\u001b[39m(objs) \u001b[39m==\u001b[39m \u001b[39m0\u001b[39m:\n\u001b[0;32m--> 404\u001b[0m     \u001b[39mraise\u001b[39;00m \u001b[39mValueError\u001b[39;00m(\u001b[39m\"\u001b[39m\u001b[39mNo objects to concatenate\u001b[39m\u001b[39m\"\u001b[39m)\n\u001b[1;32m    406\u001b[0m \u001b[39mif\u001b[39;00m keys \u001b[39mis\u001b[39;00m \u001b[39mNone\u001b[39;00m:\n\u001b[1;32m    407\u001b[0m     objs \u001b[39m=\u001b[39m \u001b[39mlist\u001b[39m(com\u001b[39m.\u001b[39mnot_none(\u001b[39m*\u001b[39mobjs))\n",
      "\u001b[0;31mValueError\u001b[0m: No objects to concatenate"
     ]
    }
   ],
   "source": [
    "result_dir = '/bsuscratch/zacharykeskinen/data/infrasound/wind_results'\n",
    "fig_dir = '/bsuhome/zacharykeskinen/infrasound/figures'\n",
    "tmp_dir = join(result_dir,'tmp')\n",
    "super_x = []\n",
    "for f in glob(join(tmp_dir, '*')):\n",
    "    with open(f, 'rb') as f:\n",
    "        df = pickle.load(f)\n",
    "    super_x.append(df)\n",
    "res = pd.concat(super_x)\n",
    "res['wind_cat'] = pd.cut(res['wind'], bins = [-0.1,3,5,11], labels = ['low-wind','med-wind','high-wind'])\n",
    "with open(join(result_dir, 'windv2.pkl'), 'wb') as f:\n",
    "    pickle.dump(res, f)\n"
   ]
  },
  {
   "cell_type": "code",
   "execution_count": null,
   "metadata": {},
   "outputs": [
    {
     "ename": "",
     "evalue": "",
     "output_type": "error",
     "traceback": [
      "\u001b[1;31mRunning cells with 'Python 3.10.7 64-bit' requires ipykernel package.\n",
      "\u001b[1;31mRun the following command to install 'ipykernel' into the Python environment. \n",
      "\u001b[1;31mCommand: '/usr/local/bin/python3 -m pip install ipykernel -U --user --force-reinstall'"
     ]
    }
   ],
   "source": [
    "result_dir = '/bsuscratch/zacharykeskinen/data/infrasound/wind_results'\n",
    "with open(join(result_dir, 'windv3.pkl'), 'rb') as f:\n",
    "    wind = pickle.load(f)\n",
    "wind['wind_cat'] = pd.cut(wind['wind'], bins = [-0.1,3,5,11], labels = ['Low Wind (0-3 m/s)','Med Wind (3-5 m/s)','High Wind (5+ m/s)'])"
   ]
  },
  {
   "cell_type": "code",
   "execution_count": null,
   "metadata": {},
   "outputs": [
    {
     "ename": "",
     "evalue": "",
     "output_type": "error",
     "traceback": [
      "\u001b[1;31mRunning cells with 'Python 3.10.7 64-bit' requires ipykernel package.\n",
      "\u001b[1;31mRun the following command to install 'ipykernel' into the Python environment. \n",
      "\u001b[1;31mCommand: '/usr/local/bin/python3 -m pip install ipykernel -U --user --force-reinstall'"
     ]
    }
   ],
   "source": [
    "wind[['fs','powers']] = pd.DataFrame(wind['power'].tolist(), index=wind.index)\n",
    "# wind = wind.loc[wind.cor < wind.cor.quantile(0.8)]\n",
    "# wind = wind.loc[wind.wind > 6]\n",
    "# wind = wind.drop(['power'], axis = 1)\n",
    "powers = pd.DataFrame(wind['powers'].tolist(), index=wind.index, columns = wind.iloc[0]['fs'])\n",
    "powers[['sd_delta','cor','wind']] = wind[['sd_delta','cor','wind']]\n",
    "#powers.loc[powers.sd_delta < -0.5, 'sd_delta'] = -0.5\n",
    "plot = powers.drop(['cor','wind'], axis= 1).groupby('sd_delta').mean()\n",
    "new_index = np.linspace(plot.index[0], plot.index[-1], len(plot))\n",
    "df_resampled = plot.reindex(plot.index.union(new_index)).interpolate(method='nearest').loc[new_index]"
   ]
  },
  {
   "cell_type": "code",
   "execution_count": null,
   "metadata": {},
   "outputs": [
    {
     "ename": "",
     "evalue": "",
     "output_type": "error",
     "traceback": [
      "\u001b[1;31mRunning cells with 'Python 3.10.7 64-bit' requires ipykernel package.\n",
      "\u001b[1;31mRun the following command to install 'ipykernel' into the Python environment. \n",
      "\u001b[1;31mCommand: '/usr/local/bin/python3 -m pip install ipykernel -U --user --force-reinstall'"
     ]
    }
   ],
   "source": [
    "levels = [[None,0],[0,0.2],[0.2,0.4],[0.4,0.6],[0.6,0.8],[0.8,1],[1,1.2],[1.2,None]]\n",
    "plot = pd.DataFrame()\n",
    "for low, high in levels:\n",
    "    d = {}\n",
    "    if low == None:\n",
    "        sub = powers.loc[powers.sd_delta < high]\n",
    "        low = -0.2\n",
    "    elif high == None:\n",
    "        sub = powers.loc[powers.sd_delta > low]\n",
    "    else:\n",
    "        sub = powers.loc[(powers.sd_delta > low) & (powers.sd_delta < high)]\n",
    "    sub = sub.drop(['sd_delta', 'cor', 'wind'], axis = 1).dropna().mean()\n",
    "    sub.index = np.round(sub.index.astype(float),2)\n",
    "    d[low] = sub\n",
    "    plot = pd.concat([plot, pd.DataFrame.from_dict(d)], axis = 1)"
   ]
  },
  {
   "cell_type": "code",
   "execution_count": null,
   "metadata": {},
   "outputs": [
    {
     "ename": "",
     "evalue": "",
     "output_type": "error",
     "traceback": [
      "\u001b[1;31mRunning cells with 'Python 3.10.7 64-bit' requires ipykernel package.\n",
      "\u001b[1;31mRun the following command to install 'ipykernel' into the Python environment. \n",
      "\u001b[1;31mCommand: '/usr/local/bin/python3 -m pip install ipykernel -U --user --force-reinstall'"
     ]
    }
   ],
   "source": [
    "from re import A\n",
    "\n",
    "\n",
    "f, axes = plt.subplots(3, figsize= (12,8))\n",
    "levels = [[None,0],[0,0.2],[0.2,0.4],[0.4,0.6],[0.6,0.8],[0.8,1],[1,1.2],[1.2,None]]\n",
    "\n",
    "for i, (low, high) in enumerate([[0,3],[3,5],[5,10]]):\n",
    "    ax = axes[i]\n",
    "    power_sub = powers.loc[(powers.wind < high) & (powers.wind > low)]\n",
    "    plot = pd.DataFrame()\n",
    "    for low, high in levels:\n",
    "        d = {}\n",
    "        if low == None:\n",
    "            sub = power_sub.loc[power_sub.sd_delta < high]\n",
    "            low = -0.2\n",
    "        elif high == None:\n",
    "            sub = power_sub.loc[power_sub.sd_delta > low]\n",
    "        else:\n",
    "            sub = power_sub.loc[(power_sub.sd_delta > low) & (power_sub.sd_delta < high)]\n",
    "        sub = sub.drop(['sd_delta', 'cor', 'wind'], axis = 1).dropna().mean()\n",
    "        sub.index = np.round(sub.index.astype(float),2)\n",
    "        d[low] = sub\n",
    "        plot = pd.concat([plot, pd.DataFrame.from_dict(d)], axis = 1)\n",
    "    im = ax.imshow(plot[::-1], aspect = 'auto',vmin=-0.0000005, vmax=0.000003, interpolation = 'bilinear',extent = (df_resampled.index[0], df_resampled.index[-1], df_resampled.columns[0], df_resampled.columns[-1]))\n",
    "    plt.colorbar(im, ax= ax)"
   ]
  },
  {
   "cell_type": "code",
   "execution_count": null,
   "metadata": {},
   "outputs": [
    {
     "ename": "",
     "evalue": "",
     "output_type": "error",
     "traceback": [
      "\u001b[1;31mRunning cells with 'Python 3.10.7 64-bit' requires ipykernel package.\n",
      "\u001b[1;31mRun the following command to install 'ipykernel' into the Python environment. \n",
      "\u001b[1;31mCommand: '/usr/local/bin/python3 -m pip install ipykernel -U --user --force-reinstall'"
     ]
    }
   ],
   "source": [
    "from matplotlib.colors import LogNorm\n",
    "f, axes = plt.subplots(3, figsize= (12,8))\n",
    "norm=LogNorm(vmin=1e-7, vmax=2e-5)\n",
    "title_dic = {'0-3':'Low Wind Speeds', '3-5':'Medium Wind Speeds', '5-10':'High Wind Speeds'}\n",
    "for i, (low, high) in enumerate([[0,3],[3,5],[5,10]]):\n",
    "    ax = axes[i]\n",
    "    with open(join(result_dir, 'windv2.pkl'), 'rb') as f:\n",
    "        wind = pickle.load(f)\n",
    "    wind[['fs','powers']] = pd.DataFrame(wind['power'].tolist(), index=wind.index)\n",
    "    # wind = wind.loc[wind.cor < wind.cor.quantile(0.5)]\n",
    "    wind.loc[wind.sd_delta < -0.2, 'sd_delta'] = -0.2\n",
    "    powers = pd.DataFrame(wind['powers'].tolist(), index=wind.index, columns = wind.iloc[0]['fs'])\n",
    "    powers[['sd_delta','cor','wind']] = wind[['sd_delta','cor','wind']]\n",
    "\n",
    "    plot = powers.loc[(powers.wind < high) & (powers.wind > low)].drop(['cor','wind'], axis= 1).groupby('sd_delta').mean()\n",
    "    new_index = np.linspace(plot.index[0], plot.index[-1], len(plot))\n",
    "    #df_resampled = plot.reindex(plot.index.union(new_index)).interpolate(method='nearest').loc[new_index]\n",
    "    df_resampled = plot.reindex(np.arange(-0.2, 1, 0.1), method = 'nearest')\n",
    "    extent = (df_resampled.index[0], df_resampled.index[-1], df_resampled.columns[0], df_resampled.columns[-1])\n",
    "    # extent = (-0.2,1,0,100)\n",
    "    im = ax.imshow(df_resampled.T.iloc[::-1],extent = extent, aspect = 'auto', norm = norm, interpolation = None)\n",
    "    ax.set_ylabel('Frequency (Hz)')\n",
    "    title = title_dic[f'{low}-{high}']\n",
    "    # ax.set_title(f'Wind Speeds from {low} to {high} m/s')\n",
    "    ax.set_title(title)\n",
    "    plt.colorbar(im, ax = ax)\n",
    "axes[2].set_xlabel('Sensor Burial Depth (m)')\n",
    "#plt.xlim(-0.2,0.5)\n",
    "plt.tight_layout()"
   ]
  },
  {
   "cell_type": "markdown",
   "metadata": {},
   "source": [
    "## scatter plots"
   ]
  },
  {
   "cell_type": "code",
   "execution_count": null,
   "metadata": {},
   "outputs": [
    {
     "ename": "",
     "evalue": "",
     "output_type": "error",
     "traceback": [
      "\u001b[1;31mRunning cells with 'Python 3.10.7 64-bit' requires ipykernel package.\n",
      "\u001b[1;31mRun the following command to install 'ipykernel' into the Python environment. \n",
      "\u001b[1;31mCommand: '/usr/local/bin/python3 -m pip install ipykernel -U --user --force-reinstall'"
     ]
    }
   ],
   "source": [
    "plt.subplots(figsize = (12,8))\n",
    "plt.scatter(wind[(wind.sd_delta < -0.1) & (wind.cor > 0)].wind, wind[(wind.sd_delta < -0.1) & (wind.cor > 0)].broad_power)\n",
    "plt.yscale('log')\n",
    "plt.ylabel('Hourly Power')\n",
    "plt.xlabel('Hourly Average Wind Speed')\n",
    "plt.title('Canyon Creek Hourly Wind Speed vs Banner \"Free-Air\" Power')\n",
    "plt.savefig(join(fig_dir, 'wind','free-air-canyon-scatter.png'))"
   ]
  },
  {
   "cell_type": "code",
   "execution_count": null,
   "metadata": {},
   "outputs": [
    {
     "ename": "",
     "evalue": "",
     "output_type": "error",
     "traceback": [
      "\u001b[1;31mRunning cells with 'Python 3.10.7 64-bit' requires ipykernel package.\n",
      "\u001b[1;31mRun the following command to install 'ipykernel' into the Python environment. \n",
      "\u001b[1;31mCommand: '/usr/local/bin/python3 -m pip install ipykernel -U --user --force-reinstall'"
     ]
    }
   ],
   "source": [
    "\n",
    "sns.catplot(data = wind[(wind.h != 2) & (wind.sd_delta < -0.1)], x = 'wind_cat', y = 'broad_power', kind = 'box', height=8.27, aspect=11.7/8.27)\n",
    "plt.yscale('log')\n",
    "plt.ylabel('Banner Free-Air Power')\n",
    "plt.xlabel('')\n",
    "plt.xticks(ticks = [0,1,2], labels = ['Low Wind','Medium Wind','High Wind'])\n",
    "plt.title('Canyon Wind Speeds vs Free-Air Banner Power')\n",
    "plt.savefig(join(fig_dir, 'wind','free-air-canyon-box.png'))"
   ]
  },
  {
   "cell_type": "code",
   "execution_count": null,
   "metadata": {},
   "outputs": [
    {
     "ename": "",
     "evalue": "",
     "output_type": "error",
     "traceback": [
      "\u001b[1;31mRunning cells with 'Python 3.10.7 64-bit' requires ipykernel package.\n",
      "\u001b[1;31mRun the following command to install 'ipykernel' into the Python environment. \n",
      "\u001b[1;31mCommand: '/usr/local/bin/python3 -m pip install ipykernel -U --user --force-reinstall'"
     ]
    }
   ],
   "source": [
    "wind.wind_cat.unique()"
   ]
  },
  {
   "cell_type": "code",
   "execution_count": null,
   "metadata": {},
   "outputs": [
    {
     "ename": "",
     "evalue": "",
     "output_type": "error",
     "traceback": [
      "\u001b[1;31mRunning cells with 'Python 3.10.7 64-bit' requires ipykernel package.\n",
      "\u001b[1;31mRun the following command to install 'ipykernel' into the Python environment. \n",
      "\u001b[1;31mCommand: '/usr/local/bin/python3 -m pip install ipykernel -U --user --force-reinstall'"
     ]
    }
   ],
   "source": [
    "from sklearn.linear_model import LinearRegression\n",
    "plt.subplots(figsize = (12,8))\n",
    "for i, (low, high) in enumerate([[0,3],[5,10]]):\n",
    "    # if i == 2:\n",
    "        plot = wind.loc[(wind.wind < high) & (wind.wind > low) & (wind.cor > 0.2)]\n",
    "        plt.scatter(plot.sd_delta, plot.broad_power, label = f'{low}-{high} m/s wind speed', alpha = 0.4)\n",
    "        reg = LinearRegression().fit(plot.sd_delta.values.reshape(-1, 1), plot.broad_power.values.reshape(-1, 1))\n",
    "        x = np.linspace(-0.5, 1.7, 1000)\n",
    "        y = reg.predict(x.reshape(-1, 1))\n",
    "        plt.plot(x,y)\n",
    "\n",
    "plt.legend()\n",
    "plt.yscale('log')\n",
    "plt.ylim(10e0, 8e3)\n",
    "plt.ylabel('Hourly Power')\n",
    "plt.xlabel('Burial Depth')\n",
    "plt.title('Hourly Power vs Burial Depth')\n",
    "plt.savefig(join(fig_dir, 'wind','scatter_power_depth.png'))"
   ]
  },
  {
   "cell_type": "code",
   "execution_count": null,
   "metadata": {},
   "outputs": [
    {
     "ename": "",
     "evalue": "",
     "output_type": "error",
     "traceback": [
      "\u001b[1;31mRunning cells with 'Python 3.10.7 64-bit' requires ipykernel package.\n",
      "\u001b[1;31mRun the following command to install 'ipykernel' into the Python environment. \n",
      "\u001b[1;31mCommand: '/usr/local/bin/python3 -m pip install ipykernel -U --user --force-reinstall'"
     ]
    }
   ],
   "source": [
    "import seaborn as sns\n",
    "sns.set(rc={\n",
    " 'axes.axisbelow': True,\n",
    " 'axes.edgecolor': 'grey',\n",
    " 'axes.facecolor': 'None',\n",
    " 'axes.grid': False,\n",
    " 'axes.grid.axis':'y',\n",
    " 'axes.labelcolor': 'black',\n",
    " 'axes.linewidth': 1,\n",
    " 'axes.spines.right': False,\n",
    " 'axes.spines.top': False,\n",
    " 'figure.facecolor': 'white',\n",
    " 'figure.figsize': (18, 12),\n",
    " 'grid.color': 'grey',\n",
    " 'grid.alpha':1,\n",
    " 'grid.linewidth':0.5,\n",
    " 'image.aspect':'auto',\n",
    " 'lines.solid_capstyle': 'round',\n",
    " 'patch.edgecolor': 'w',\n",
    " 'patch.force_edgecolor': True,\n",
    " 'savefig.dpi':300,\n",
    " 'text.color': 'black',\n",
    " 'xtick.bottom': False,\n",
    " 'xtick.color': 'grey',\n",
    " 'xtick.direction': 'out',\n",
    " 'xtick.top': False,\n",
    " 'ytick.color': 'grey',\n",
    " 'ytick.direction': 'out',\n",
    " 'ytick.left': True,\n",
    " 'ytick.color':'grey',\n",
    " 'ytick.right': False})\n",
    "sns.set_context(\"notebook\", rc={\"font.size\":20,\n",
    "                                \"axes.titlesize\":30,\n",
    "                                \"axes.labelsize\":24,\n",
    "                                \"axes.legendsize\":18})"
   ]
  },
  {
   "cell_type": "markdown",
   "metadata": {},
   "source": [
    "## Paper Figure of Wind Speed"
   ]
  },
  {
   "cell_type": "code",
   "execution_count": null,
   "metadata": {},
   "outputs": [
    {
     "ename": "",
     "evalue": "",
     "output_type": "error",
     "traceback": [
      "\u001b[1;31mRunning cells with 'Python 3.10.7 64-bit' requires ipykernel package.\n",
      "\u001b[1;31mRun the following command to install 'ipykernel' into the Python environment. \n",
      "\u001b[1;31mCommand: '/usr/local/bin/python3 -m pip install ipykernel -U --user --force-reinstall'"
     ]
    }
   ],
   "source": [
    "f, axes = plt.subplots(3)\n",
    "wind_snow = wind.loc[(wind.h != 2.00) & (wind.cor < 1)].copy()\n",
    "wind_snow.loc[:, 'broad_power'] = wind_snow.loc[:, 'broad_power']/(60*60*200)\n",
    "ylabels = ['Above Snow','0- 20 Centimeters','20+ Centimeters']\n",
    "for j, h in enumerate([0, (0, 0.2), 0.2]):\n",
    "        if j == 0:\n",
    "            plot = wind_snow.loc[(wind_snow.sd_delta < h)]\n",
    "        if j == 1:\n",
    "            ax = plot = wind_snow.loc[(wind_snow.sd_delta > h[0]) & (wind_snow.sd_delta < h[1])]\n",
    "        if j == 2:\n",
    "            plot = wind_snow.loc[(wind_snow.sd_delta > h)]\n",
    "        \n",
    "        # plot.loc[:,'broad_power'] = (plot['broad_power']/(60*60)).values\n",
    "        ax = sns.boxplot(y = 'wind_cat', x = 'broad_power', data = plot, ax = axes[j], showcaps = False, flierprops={\"marker\": \"x\"}, fliersize= 2, width = 0.4)\n",
    "\n",
    "        ax.set_ylabel(ylabels[j])\n",
    "        if j == 0:\n",
    "            ax.set_title('Burial Depth vs Hourly Power')\n",
    "        if j == 2:\n",
    "            ax.set_xlabel('Hourly Power ($Pa^{2}$)')\n",
    "        else:\n",
    "            ax.set_xlabel('')\n",
    "            ax.set_xticks([])\n",
    "        ax.set_xscale('log')\n",
    "        ax.set_xlim(10/(60*60*200), 10e5/(60*60*200))\n",
    "plt.savefig(join('/bsuhome/zacharykeskinen/infrasound/figures/wind','boxplot_wind_depth_binv4'), dpi = 300)"
   ]
  },
  {
   "cell_type": "markdown",
   "metadata": {},
   "source": [
    "## P Test"
   ]
  },
  {
   "cell_type": "code",
   "execution_count": null,
   "metadata": {},
   "outputs": [
    {
     "ename": "",
     "evalue": "",
     "output_type": "error",
     "traceback": [
      "\u001b[1;31mRunning cells with 'Python 3.10.7 64-bit' requires ipykernel package.\n",
      "\u001b[1;31mRun the following command to install 'ipykernel' into the Python environment. \n",
      "\u001b[1;31mCommand: '/usr/local/bin/python3 -m pip install ipykernel -U --user --force-reinstall'"
     ]
    }
   ],
   "source": [
    "from scipy.stats import ttest_ind\n",
    "ttest_ind(wind.loc[wind.wind_cat == 'med-wind', 'broad_power'].values, wind.loc[wind.wind_cat == 'low-wind', 'broad_power'].values)"
   ]
  },
  {
   "cell_type": "code",
   "execution_count": null,
   "metadata": {},
   "outputs": [
    {
     "ename": "",
     "evalue": "",
     "output_type": "error",
     "traceback": [
      "\u001b[1;31mRunning cells with 'Python 3.10.7 64-bit' requires ipykernel package.\n",
      "\u001b[1;31mRun the following command to install 'ipykernel' into the Python environment. \n",
      "\u001b[1;31mCommand: '/usr/local/bin/python3 -m pip install ipykernel -U --user --force-reinstall'"
     ]
    }
   ],
   "source": [
    "from scipy.stats import normaltest\n",
    "normaltest(wind.loc[wind.wind_cat == 'med-wind', 'broad_power'].values)"
   ]
  },
  {
   "cell_type": "code",
   "execution_count": null,
   "metadata": {},
   "outputs": [
    {
     "ename": "",
     "evalue": "",
     "output_type": "error",
     "traceback": [
      "\u001b[1;31mRunning cells with 'Python 3.10.7 64-bit' requires ipykernel package.\n",
      "\u001b[1;31mRun the following command to install 'ipykernel' into the Python environment. \n",
      "\u001b[1;31mCommand: '/usr/local/bin/python3 -m pip install ipykernel -U --user --force-reinstall'"
     ]
    }
   ],
   "source": [
    "from scipy.stats import mannwhitneyu\n",
    "mannwhitneyu(wind.loc[wind.wind_cat == 'med-wind', 'broad_power'].values, wind.loc[wind.wind_cat == 'low-wind', 'broad_power'].values)"
   ]
  },
  {
   "cell_type": "code",
   "execution_count": null,
   "metadata": {},
   "outputs": [
    {
     "ename": "",
     "evalue": "",
     "output_type": "error",
     "traceback": [
      "\u001b[1;31mRunning cells with 'Python 3.10.7 64-bit' requires ipykernel package.\n",
      "\u001b[1;31mRun the following command to install 'ipykernel' into the Python environment. \n",
      "\u001b[1;31mCommand: '/usr/local/bin/python3 -m pip install ipykernel -U --user --force-reinstall'"
     ]
    }
   ],
   "source": [
    "from scipy.stats import mannwhitneyu\n",
    "mannwhitneyu(wind.loc[wind.wind_cat == 'med-wind', 'broad_power'].values, wind.loc[wind.wind_cat == 'high-wind', 'broad_power'].values)"
   ]
  },
  {
   "cell_type": "markdown",
   "metadata": {},
   "source": [
    "## Scatter of air vs buried"
   ]
  },
  {
   "cell_type": "code",
   "execution_count": null,
   "metadata": {},
   "outputs": [
    {
     "ename": "",
     "evalue": "",
     "output_type": "error",
     "traceback": [
      "\u001b[1;31mRunning cells with 'Python 3.10.7 64-bit' requires ipykernel package.\n",
      "\u001b[1;31mRun the following command to install 'ipykernel' into the Python environment. \n",
      "\u001b[1;31mCommand: '/usr/local/bin/python3 -m pip install ipykernel -U --user --force-reinstall'"
     ]
    }
   ],
   "source": [
    "d = pd.to_datetime('2001-02-01')\n",
    "d = d.tz_localize('UTC')\n",
    "t = [d + pd.Timedelta(f'{si} hours') for si in range(24)]\n",
    "t_local = [t.tz_convert('America/Boise') for t in t]\n",
    "# t_hour = [t.time() for t in t_local]\n",
    "for i, d in enumerate(t_local):\n",
    "    if d.day == 31:\n",
    "        t_local[i] = t_local[i] + pd.Timedelta('1 day')\n",
    "\n",
    "with open('/bsuhome/zacharykeskinen/infrasound/results/hourly_average/v1', 'rb') as f:\n",
    "    hourly = pickle.load(f)\n",
    "\n",
    "hour_power = pd.DataFrame(hourly, index= t_local, columns = [0.33,0.66,1,1.33,2.0])\n",
    "hour_power = hour_power.sort_index()"
   ]
  },
  {
   "cell_type": "code",
   "execution_count": null,
   "metadata": {},
   "outputs": [
    {
     "ename": "",
     "evalue": "",
     "output_type": "error",
     "traceback": [
      "\u001b[1;31mRunning cells with 'Python 3.10.7 64-bit' requires ipykernel package.\n",
      "\u001b[1;31mRun the following command to install 'ipykernel' into the Python environment. \n",
      "\u001b[1;31mCommand: '/usr/local/bin/python3 -m pip install ipykernel -U --user --force-reinstall'"
     ]
    }
   ],
   "source": [
    "canyon = pd.read_csv('/bsuscratch/zacharykeskinen/data/infrasound/snotel/canyon_wx.csv', comment = '#', parse_dates=['Date_Time'], index_col = ['Date_Time'])\n",
    "units = canyon.iloc[0]\n",
    "canyon = canyon.iloc[1:]\n",
    "# convert all columns of DataFrame\n",
    "canyon = canyon.apply(pd.to_numeric, errors = 'ignore')\n",
    "canyon = canyon.loc[:pd.to_datetime('2022-05-15')]\n",
    "canyon = canyon.tz_convert('UTC')"
   ]
  },
  {
   "cell_type": "code",
   "execution_count": null,
   "metadata": {},
   "outputs": [
    {
     "ename": "",
     "evalue": "",
     "output_type": "error",
     "traceback": [
      "\u001b[1;31mRunning cells with 'Python 3.10.7 64-bit' requires ipykernel package.\n",
      "\u001b[1;31mRun the following command to install 'ipykernel' into the Python environment. \n",
      "\u001b[1;31mCommand: '/usr/local/bin/python3 -m pip install ipykernel -U --user --force-reinstall'"
     ]
    }
   ],
   "source": [
    "s = canyon.loc[(canyon.index > pd.to_datetime('2022-01-01T00:00:00 UTC')) & (canyon.index < pd.to_datetime('2022-04-01T00:00:00 UTC')), 'wind_speed_set_1']"
   ]
  },
  {
   "cell_type": "code",
   "execution_count": null,
   "metadata": {},
   "outputs": [
    {
     "ename": "",
     "evalue": "",
     "output_type": "error",
     "traceback": [
      "\u001b[1;31mRunning cells with 'Python 3.10.7 64-bit' requires ipykernel package.\n",
      "\u001b[1;31mRun the following command to install 'ipykernel' into the Python environment. \n",
      "\u001b[1;31mCommand: '/usr/local/bin/python3 -m pip install ipykernel -U --user --force-reinstall'"
     ]
    }
   ],
   "source": [
    "import matplotlib.dates as mdates\n",
    "from dateutil import tz\n",
    "fig, ax = plt.subplots()\n",
    "for col in hour_power.columns:\n",
    "    sns.lineplot(x = hour_power.index, y = col, data = hour_power, ax = ax, label = f'{col} m')\n",
    "plt.yscale('log')\n",
    "plt.title('Average Power for Buried vs Free-Air Stations')\n",
    "plt.ylabel('Hourly Power ($Pa^{2}$)')\n",
    "plt.xlabel('Time of Day')\n",
    "# plt.gca().xaxis.set_major_locator(plt.MaxNLocator(7, integer = True))\n",
    "myFmt = mdates.DateFormatter('%H:%M', tz = tz.gettz('America/Boise'))\n",
    "\n",
    "ax.xaxis.set_major_formatter(myFmt)\n",
    "# ax.xaxis.set_major_locator(mdates.HourLocator())\n",
    "# fig.autofmt_xdate()"
   ]
  },
  {
   "cell_type": "code",
   "execution_count": null,
   "metadata": {},
   "outputs": [
    {
     "ename": "",
     "evalue": "",
     "output_type": "error",
     "traceback": [
      "\u001b[1;31mRunning cells with 'Python 3.10.7 64-bit' requires ipykernel package.\n",
      "\u001b[1;31mRun the following command to install 'ipykernel' into the Python environment. \n",
      "\u001b[1;31mCommand: '/usr/local/bin/python3 -m pip install ipykernel -U --user --force-reinstall'"
     ]
    }
   ],
   "source": [
    "wind"
   ]
  }
 ],
 "metadata": {
  "kernelspec": {
   "display_name": "Python 3.10.4 ('infra')",
   "language": "python",
   "name": "python3"
  },
  "language_info": {
   "codemirror_mode": {
    "name": "ipython",
    "version": 3
   },
   "file_extension": ".py",
   "mimetype": "text/x-python",
   "name": "python",
   "nbconvert_exporter": "python",
   "pygments_lexer": "ipython3",
   "version": "3.10.4"
  },
  "orig_nbformat": 4,
  "vscode": {
   "interpreter": {
    "hash": "74327e1a8c84d0f0283378c67c8823c47058bdecd7a40692137913bd7afa3660"
   }
  }
 },
 "nbformat": 4,
 "nbformat_minor": 2
}
