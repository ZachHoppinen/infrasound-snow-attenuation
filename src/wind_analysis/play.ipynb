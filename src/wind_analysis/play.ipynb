{
 "cells": [
  {
   "cell_type": "code",
   "execution_count": 2,
   "metadata": {},
   "outputs": [],
   "source": [
    "import numpy as np\n",
    "import pandas as pd\n",
    "import pickle\n",
    "import matplotlib.pyplot as plt\n",
    "from os.path import join, exists, basename, dirname\n",
    "from scipy.signal import welch\n",
    "\n",
    "from filtering import freq_filt"
   ]
  },
  {
   "cell_type": "code",
   "execution_count": 13,
   "metadata": {},
   "outputs": [
    {
     "name": "stderr",
     "output_type": "stream",
     "text": [
      "/tmp/ipykernel_11766/548296875.py:6: FutureWarning: Indexing a timezone-aware DatetimeIndex with a timezone-naive datetime is deprecated and will raise KeyError in a future version. Use a timezone-aware object instead.\n",
      "  canyon = canyon.loc[:pd.to_datetime('2022-05-15')]\n"
     ]
    }
   ],
   "source": [
    "canyon = pd.read_csv('/bsuscratch/zacharykeskinen/data/infrasound/snotel/canyon_wx.csv', comment = '#', parse_dates=['Date_Time'], index_col = ['Date_Time'])\n",
    "units = canyon.iloc[0]\n",
    "canyon = canyon.iloc[1:]\n",
    "# convert all columns of DataFrame\n",
    "canyon = canyon.apply(pd.to_numeric, errors = 'ignore')\n",
    "canyon = canyon.loc[:pd.to_datetime('2022-05-15')]\n",
    "canyon = canyon.tz_convert('UTC')"
   ]
  },
  {
   "cell_type": "code",
   "execution_count": 4,
   "metadata": {},
   "outputs": [],
   "source": [
    "snotel_fp = '/bsuscratch/zacharykeskinen/data/infrasound/snotel/banner_snotel_results.csv'\n",
    "snotel_fp = '/bsuscratch/zacharykeskinen/data/infrasound/snotel/banner_snotel_results.csv'\n",
    "snotel = pd.read_csv(snotel_fp, comment='#', index_col=['Date'], parse_dates=['Date'])\n",
    "for c in snotel.columns:\n",
    "    snotel[c] = snotel[c].astype('f4')\n",
    "snotel['Snow Water Equivalent'] = snotel['Snow Water Equivalent (mm) Start of Day Values']/1000\n",
    "snotel['Snow Depth'] = snotel['Snow Depth (cm) Start of Day Values']/100\n",
    "snotel['Average Air Temp'] = snotel['Air Temperature Average (degC)']"
   ]
  },
  {
   "cell_type": "code",
   "execution_count": 5,
   "metadata": {},
   "outputs": [],
   "source": [
    "result_dir = '/bsuscratch/zacharykeskinen/data/infrasound/psd_results'\n",
    "data_dir = '/bsuscratch/zacharykeskinen/data/infrasound/array_data'\n",
    "with open(join(data_dir, 'merged/all_days'), 'rb') as f:\n",
    "    days = pickle.load(f)\n",
    "sps = 200"
   ]
  },
  {
   "cell_type": "code",
   "execution_count": 41,
   "metadata": {},
   "outputs": [
    {
     "data": {
      "text/plain": [
       "('2022-01-21',\n",
       " {0.33: '/bsuscratch/zacharykeskinen/data/infrasound/array_data/be4-lower/2022-01-21_c1.parq',\n",
       "  0.66: '/bsuscratch/zacharykeskinen/data/infrasound/array_data/be4-lower/2022-01-21_c2.parq',\n",
       "  1: '/bsuscratch/zacharykeskinen/data/infrasound/array_data/be4-lower/2022-01-21_c3.parq',\n",
       "  1.33: '/bsuscratch/zacharykeskinen/data/infrasound/array_data/a3m-upper/2022-01-21_c1.parq',\n",
       "  2: '/bsuscratch/zacharykeskinen/data/infrasound/array_data/a3m-upper/2022-01-21_c3.parq',\n",
       "  'snotel': Snow Water Equivalent (mm) Start of Day Values         462.0\n",
       "  Snow Depth (cm) Start of Day Values                    163.0\n",
       "  Precipitation Accumulation (mm) Start of Day Values    577.0\n",
       "  Air Temperature Observed (degC) Start of Day Values     -2.5\n",
       "  Air Temperature Maximum (degC)                           2.4\n",
       "  Air Temperature Minimum (degC)                          -9.4\n",
       "  Air Temperature Average (degC)                          -4.6\n",
       "  Name: 2022-01-21, dtype: float32})"
      ]
     },
     "execution_count": 41,
     "metadata": {},
     "output_type": "execute_result"
    }
   ],
   "source": [
    "next(iter(days.items()))"
   ]
  },
  {
   "cell_type": "code",
   "execution_count": 37,
   "metadata": {},
   "outputs": [
    {
     "name": "stdout",
     "output_type": "stream",
     "text": [
      "The length of the input vector x must be greater than padlen, which is 9.\n",
      "{'sd_delta': [1.22], 'wind': [0.37], 'power': [3.2998620574928384e-05]}\n",
      "{'sd_delta': [0.89], 'wind': [0.37], 'power': [2.775559845140385e-05]}\n",
      "{'sd_delta': [0.55], 'wind': [0.37], 'power': [2.664172674207924e-05]}\n",
      "{'sd_delta': [0.21999999999999997], 'wind': [0.37], 'power': [2.6548544663238784e-05]}\n"
     ]
    },
    {
     "ename": "KeyboardInterrupt",
     "evalue": "",
     "output_type": "error",
     "traceback": [
      "\u001b[0;31m---------------------------------------------------------------------------\u001b[0m",
      "\u001b[0;31mKeyboardInterrupt\u001b[0m                         Traceback (most recent call last)",
      "\u001b[1;32m/bsuhome/zacharykeskinen/infrasound/src/wind_analysis/play.ipynb Cell 5\u001b[0m in \u001b[0;36m<cell line: 2>\u001b[0;34m()\u001b[0m\n\u001b[1;32m     <a href='vscode-notebook-cell://ssh-remote%2Bborah/bsuhome/zacharykeskinen/infrasound/src/wind_analysis/play.ipynb#ch0000006vscode-remote?line=12'>13</a>\u001b[0m res[\u001b[39m'\u001b[39m\u001b[39msd_delta\u001b[39m\u001b[39m'\u001b[39m] \u001b[39m=\u001b[39m [sd \u001b[39m-\u001b[39m h]\n\u001b[1;32m     <a href='vscode-notebook-cell://ssh-remote%2Bborah/bsuhome/zacharykeskinen/infrasound/src/wind_analysis/play.ipynb#ch0000006vscode-remote?line=13'>14</a>\u001b[0m res[\u001b[39m'\u001b[39m\u001b[39mwind\u001b[39m\u001b[39m'\u001b[39m] \u001b[39m=\u001b[39m [wind_speed]\n\u001b[0;32m---> <a href='vscode-notebook-cell://ssh-remote%2Bborah/bsuhome/zacharykeskinen/infrasound/src/wind_analysis/play.ipynb#ch0000006vscode-remote?line=14'>15</a>\u001b[0m arr \u001b[39m=\u001b[39m freq_filt(pd\u001b[39m.\u001b[39;49mread_parquet(fp)[s:e]\u001b[39m.\u001b[39mvalues\u001b[39m.\u001b[39mravel(), \u001b[39m1\u001b[39m, kind \u001b[39m=\u001b[39m \u001b[39m'\u001b[39m\u001b[39mhighpass\u001b[39m\u001b[39m'\u001b[39m)\n\u001b[1;32m     <a href='vscode-notebook-cell://ssh-remote%2Bborah/bsuhome/zacharykeskinen/infrasound/src/wind_analysis/play.ipynb#ch0000006vscode-remote?line=15'>16</a>\u001b[0m power \u001b[39m=\u001b[39m np\u001b[39m.\u001b[39msum(arr\u001b[39m*\u001b[39m\u001b[39m*\u001b[39m\u001b[39m2\u001b[39m)\u001b[39m/\u001b[39marr\u001b[39m.\u001b[39msize\n\u001b[1;32m     <a href='vscode-notebook-cell://ssh-remote%2Bborah/bsuhome/zacharykeskinen/infrasound/src/wind_analysis/play.ipynb#ch0000006vscode-remote?line=16'>17</a>\u001b[0m res[\u001b[39m'\u001b[39m\u001b[39mpower\u001b[39m\u001b[39m'\u001b[39m] \u001b[39m=\u001b[39m [power]\n",
      "File \u001b[0;32m~/miniconda3/envs/infra/lib/python3.9/site-packages/pandas/io/parquet.py:493\u001b[0m, in \u001b[0;36mread_parquet\u001b[0;34m(path, engine, columns, storage_options, use_nullable_dtypes, **kwargs)\u001b[0m\n\u001b[1;32m    446\u001b[0m \u001b[39m\"\"\"\u001b[39;00m\n\u001b[1;32m    447\u001b[0m \u001b[39mLoad a parquet object from the file path, returning a DataFrame.\u001b[39;00m\n\u001b[1;32m    448\u001b[0m \n\u001b[0;32m   (...)\u001b[0m\n\u001b[1;32m    489\u001b[0m \u001b[39mDataFrame\u001b[39;00m\n\u001b[1;32m    490\u001b[0m \u001b[39m\"\"\"\u001b[39;00m\n\u001b[1;32m    491\u001b[0m impl \u001b[39m=\u001b[39m get_engine(engine)\n\u001b[0;32m--> 493\u001b[0m \u001b[39mreturn\u001b[39;00m impl\u001b[39m.\u001b[39;49mread(\n\u001b[1;32m    494\u001b[0m     path,\n\u001b[1;32m    495\u001b[0m     columns\u001b[39m=\u001b[39;49mcolumns,\n\u001b[1;32m    496\u001b[0m     storage_options\u001b[39m=\u001b[39;49mstorage_options,\n\u001b[1;32m    497\u001b[0m     use_nullable_dtypes\u001b[39m=\u001b[39;49muse_nullable_dtypes,\n\u001b[1;32m    498\u001b[0m     \u001b[39m*\u001b[39;49m\u001b[39m*\u001b[39;49mkwargs,\n\u001b[1;32m    499\u001b[0m )\n",
      "File \u001b[0;32m~/miniconda3/envs/infra/lib/python3.9/site-packages/pandas/io/parquet.py:347\u001b[0m, in \u001b[0;36mFastParquetImpl.read\u001b[0;34m(self, path, columns, storage_options, **kwargs)\u001b[0m\n\u001b[1;32m    343\u001b[0m     path \u001b[39m=\u001b[39m handles\u001b[39m.\u001b[39mhandle\n\u001b[1;32m    345\u001b[0m parquet_file \u001b[39m=\u001b[39m \u001b[39mself\u001b[39m\u001b[39m.\u001b[39mapi\u001b[39m.\u001b[39mParquetFile(path, \u001b[39m*\u001b[39m\u001b[39m*\u001b[39mparquet_kwargs)\n\u001b[0;32m--> 347\u001b[0m result \u001b[39m=\u001b[39m parquet_file\u001b[39m.\u001b[39;49mto_pandas(columns\u001b[39m=\u001b[39;49mcolumns, \u001b[39m*\u001b[39;49m\u001b[39m*\u001b[39;49mkwargs)\n\u001b[1;32m    349\u001b[0m \u001b[39mif\u001b[39;00m handles \u001b[39mis\u001b[39;00m \u001b[39mnot\u001b[39;00m \u001b[39mNone\u001b[39;00m:\n\u001b[1;32m    350\u001b[0m     handles\u001b[39m.\u001b[39mclose()\n",
      "File \u001b[0;32m~/miniconda3/envs/infra/lib/python3.9/site-packages/fastparquet/api.py:751\u001b[0m, in \u001b[0;36mParquetFile.to_pandas\u001b[0;34m(self, columns, categories, filters, index, row_filter)\u001b[0m\n\u001b[1;32m    747\u001b[0m         \u001b[39mcontinue\u001b[39;00m\n\u001b[1;32m    748\u001b[0m     parts \u001b[39m=\u001b[39m {name: (v \u001b[39mif\u001b[39;00m name\u001b[39m.\u001b[39mendswith(\u001b[39m'\u001b[39m\u001b[39m-catdef\u001b[39m\u001b[39m'\u001b[39m)\n\u001b[1;32m    749\u001b[0m                     \u001b[39melse\u001b[39;00m v[start:start \u001b[39m+\u001b[39m thislen])\n\u001b[1;32m    750\u001b[0m              \u001b[39mfor\u001b[39;00m (name, v) \u001b[39min\u001b[39;00m views\u001b[39m.\u001b[39mitems()}\n\u001b[0;32m--> 751\u001b[0m     \u001b[39mself\u001b[39;49m\u001b[39m.\u001b[39;49mread_row_group_file(rg, columns, categories, index,\n\u001b[1;32m    752\u001b[0m                              assign\u001b[39m=\u001b[39;49mparts, partition_meta\u001b[39m=\u001b[39;49m\u001b[39mself\u001b[39;49m\u001b[39m.\u001b[39;49mpartition_meta,\n\u001b[1;32m    753\u001b[0m                              row_filter\u001b[39m=\u001b[39;49msel, infile\u001b[39m=\u001b[39;49minfile)\n\u001b[1;32m    754\u001b[0m     start \u001b[39m+\u001b[39m\u001b[39m=\u001b[39m thislen\n\u001b[1;32m    755\u001b[0m \u001b[39mreturn\u001b[39;00m df\n",
      "File \u001b[0;32m~/miniconda3/envs/infra/lib/python3.9/site-packages/fastparquet/api.py:361\u001b[0m, in \u001b[0;36mParquetFile.read_row_group_file\u001b[0;34m(self, rg, columns, categories, index, assign, partition_meta, row_filter, infile)\u001b[0m\n\u001b[1;32m    358\u001b[0m     ret \u001b[39m=\u001b[39m \u001b[39mTrue\u001b[39;00m\n\u001b[1;32m    359\u001b[0m f \u001b[39m=\u001b[39m infile \u001b[39mor\u001b[39;00m \u001b[39mself\u001b[39m\u001b[39m.\u001b[39mopen(fn, mode\u001b[39m=\u001b[39m\u001b[39m'\u001b[39m\u001b[39mrb\u001b[39m\u001b[39m'\u001b[39m)\n\u001b[0;32m--> 361\u001b[0m core\u001b[39m.\u001b[39;49mread_row_group(\n\u001b[1;32m    362\u001b[0m     f, rg, columns, categories, \u001b[39mself\u001b[39;49m\u001b[39m.\u001b[39;49mschema, \u001b[39mself\u001b[39;49m\u001b[39m.\u001b[39;49mcats,\n\u001b[1;32m    363\u001b[0m     selfmade\u001b[39m=\u001b[39;49m\u001b[39mself\u001b[39;49m\u001b[39m.\u001b[39;49mselfmade, index\u001b[39m=\u001b[39;49mindex,\n\u001b[1;32m    364\u001b[0m     assign\u001b[39m=\u001b[39;49massign, scheme\u001b[39m=\u001b[39;49m\u001b[39mself\u001b[39;49m\u001b[39m.\u001b[39;49mfile_scheme, partition_meta\u001b[39m=\u001b[39;49mpartition_meta,\n\u001b[1;32m    365\u001b[0m     row_filter\u001b[39m=\u001b[39;49mrow_filter\n\u001b[1;32m    366\u001b[0m )\n\u001b[1;32m    367\u001b[0m \u001b[39mif\u001b[39;00m ret:\n\u001b[1;32m    368\u001b[0m     \u001b[39mreturn\u001b[39;00m df\n",
      "File \u001b[0;32m~/miniconda3/envs/infra/lib/python3.9/site-packages/fastparquet/core.py:608\u001b[0m, in \u001b[0;36mread_row_group\u001b[0;34m(file, rg, columns, categories, schema_helper, cats, selfmade, index, assign, scheme, partition_meta, row_filter)\u001b[0m\n\u001b[1;32m    606\u001b[0m \u001b[39mif\u001b[39;00m assign \u001b[39mis\u001b[39;00m \u001b[39mNone\u001b[39;00m:\n\u001b[1;32m    607\u001b[0m     \u001b[39mraise\u001b[39;00m \u001b[39mRuntimeError\u001b[39;00m(\u001b[39m'\u001b[39m\u001b[39mGoing with pre-allocation!\u001b[39m\u001b[39m'\u001b[39m)\n\u001b[0;32m--> 608\u001b[0m read_row_group_arrays(file, rg, columns, categories, schema_helper,\n\u001b[1;32m    609\u001b[0m                       cats, selfmade, assign\u001b[39m=\u001b[39;49massign, row_filter\u001b[39m=\u001b[39;49mrow_filter)\n\u001b[1;32m    611\u001b[0m \u001b[39mfor\u001b[39;00m cat \u001b[39min\u001b[39;00m cats:\n\u001b[1;32m    612\u001b[0m     \u001b[39mif\u001b[39;00m cat \u001b[39mnot\u001b[39;00m \u001b[39min\u001b[39;00m assign:\n\u001b[1;32m    613\u001b[0m         \u001b[39m# do no need to have partition columns in output\u001b[39;00m\n",
      "File \u001b[0;32m~/miniconda3/envs/infra/lib/python3.9/site-packages/fastparquet/core.py:580\u001b[0m, in \u001b[0;36mread_row_group_arrays\u001b[0;34m(file, rg, columns, categories, schema_helper, cats, selfmade, assign, row_filter)\u001b[0m\n\u001b[1;32m    577\u001b[0m \u001b[39mif\u001b[39;00m name \u001b[39mnot\u001b[39;00m \u001b[39min\u001b[39;00m columns:\n\u001b[1;32m    578\u001b[0m     \u001b[39mcontinue\u001b[39;00m\n\u001b[0;32m--> 580\u001b[0m read_col(column, schema_helper, file, use_cat\u001b[39m=\u001b[39;49mname\u001b[39m+\u001b[39;49m\u001b[39m'\u001b[39;49m\u001b[39m-catdef\u001b[39;49m\u001b[39m'\u001b[39;49m \u001b[39min\u001b[39;49;00m out,\n\u001b[1;32m    581\u001b[0m          selfmade\u001b[39m=\u001b[39;49mselfmade, assign\u001b[39m=\u001b[39;49mout[name],\n\u001b[1;32m    582\u001b[0m          catdef\u001b[39m=\u001b[39;49mout\u001b[39m.\u001b[39;49mget(name\u001b[39m+\u001b[39;49m\u001b[39m'\u001b[39;49m\u001b[39m-catdef\u001b[39;49m\u001b[39m'\u001b[39;49m, \u001b[39mNone\u001b[39;49;00m),\n\u001b[1;32m    583\u001b[0m          row_filter\u001b[39m=\u001b[39;49mrow_filter)\n\u001b[1;32m    585\u001b[0m \u001b[39mif\u001b[39;00m _is_map_like(schema_helper, column):\n\u001b[1;32m    586\u001b[0m     \u001b[39m# TODO: could be done in fast loop in _assemble_objects?\u001b[39;00m\n\u001b[1;32m    587\u001b[0m     \u001b[39mif\u001b[39;00m name \u001b[39mnot\u001b[39;00m \u001b[39min\u001b[39;00m maps:\n",
      "File \u001b[0;32m~/miniconda3/envs/infra/lib/python3.9/site-packages/fastparquet/core.py:491\u001b[0m, in \u001b[0;36mread_col\u001b[0;34m(column, schema_helper, infile, use_cat, selfmade, assign, catdef, row_filter)\u001b[0m\n\u001b[1;32m    489\u001b[0m \u001b[39melse\u001b[39;00m:\n\u001b[1;32m    490\u001b[0m     skip_nulls \u001b[39m=\u001b[39m \u001b[39mFalse\u001b[39;00m\n\u001b[0;32m--> 491\u001b[0m defi, rep, val \u001b[39m=\u001b[39m read_data_page(infile, schema_helper, ph, cmd,\n\u001b[1;32m    492\u001b[0m                                 skip_nulls, selfmade\u001b[39m=\u001b[39;49mselfmade)\n\u001b[1;32m    493\u001b[0m max_defi \u001b[39m=\u001b[39m schema_helper\u001b[39m.\u001b[39mmax_definition_level(cmd\u001b[39m.\u001b[39mpath_in_schema)\n\u001b[1;32m    494\u001b[0m \u001b[39mif\u001b[39;00m \u001b[39misinstance\u001b[39m(row_filter, np\u001b[39m.\u001b[39mndarray):\n",
      "File \u001b[0;32m~/miniconda3/envs/infra/lib/python3.9/site-packages/fastparquet/core.py:114\u001b[0m, in \u001b[0;36mread_data_page\u001b[0;34m(f, helper, header, metadata, skip_nulls, selfmade)\u001b[0m\n\u001b[1;32m    108\u001b[0m \u001b[39m\"\"\"Read a data page: definitions, repetitions, values (in order)\u001b[39;00m\n\u001b[1;32m    109\u001b[0m \n\u001b[1;32m    110\u001b[0m \u001b[39mOnly values are guaranteed to exist, e.g., for a top-level, required\u001b[39;00m\n\u001b[1;32m    111\u001b[0m \u001b[39mfield.\u001b[39;00m\n\u001b[1;32m    112\u001b[0m \u001b[39m\"\"\"\u001b[39;00m\n\u001b[1;32m    113\u001b[0m daph \u001b[39m=\u001b[39m header\u001b[39m.\u001b[39mdata_page_header\n\u001b[0;32m--> 114\u001b[0m raw_bytes \u001b[39m=\u001b[39m _read_page(f, header, metadata)\n\u001b[1;32m    115\u001b[0m io_obj \u001b[39m=\u001b[39m encoding\u001b[39m.\u001b[39mNumpyIO(raw_bytes)\n\u001b[1;32m    117\u001b[0m repetition_levels \u001b[39m=\u001b[39m read_rep(io_obj, daph, helper, metadata)\n",
      "File \u001b[0;32m~/miniconda3/envs/infra/lib/python3.9/site-packages/fastparquet/core.py:21\u001b[0m, in \u001b[0;36m_read_page\u001b[0;34m(file_obj, page_header, column_metadata)\u001b[0m\n\u001b[1;32m     18\u001b[0m \u001b[39m\"\"\"Read the data page from the given file-object and convert it to raw,\u001b[39;00m\n\u001b[1;32m     19\u001b[0m \u001b[39muncompressed bytes (if necessary).\"\"\"\u001b[39;00m\n\u001b[1;32m     20\u001b[0m raw_bytes \u001b[39m=\u001b[39m file_obj\u001b[39m.\u001b[39mread(page_header\u001b[39m.\u001b[39mcompressed_page_size)\n\u001b[0;32m---> 21\u001b[0m raw_bytes \u001b[39m=\u001b[39m decompress_data(\n\u001b[1;32m     22\u001b[0m     raw_bytes,\n\u001b[1;32m     23\u001b[0m     page_header\u001b[39m.\u001b[39;49muncompressed_page_size,\n\u001b[1;32m     24\u001b[0m     column_metadata\u001b[39m.\u001b[39;49mcodec,\n\u001b[1;32m     25\u001b[0m )\n\u001b[1;32m     27\u001b[0m \u001b[39mif\u001b[39;00m column_metadata\u001b[39m.\u001b[39mcodec:\n\u001b[1;32m     28\u001b[0m     \u001b[39massert\u001b[39;00m \u001b[39mlen\u001b[39m(raw_bytes) \u001b[39m==\u001b[39m page_header\u001b[39m.\u001b[39muncompressed_page_size, \\\n\u001b[1;32m     29\u001b[0m         \u001b[39m\"\u001b[39m\u001b[39mfound \u001b[39m\u001b[39m{0}\u001b[39;00m\u001b[39m raw bytes (expected \u001b[39m\u001b[39m{1}\u001b[39;00m\u001b[39m)\u001b[39m\u001b[39m\"\u001b[39m\u001b[39m.\u001b[39mformat(\n\u001b[1;32m     30\u001b[0m             \u001b[39mlen\u001b[39m(raw_bytes),\n\u001b[1;32m     31\u001b[0m             page_header\u001b[39m.\u001b[39muncompressed_page_size)\n",
      "File \u001b[0;32m~/miniconda3/envs/infra/lib/python3.9/site-packages/fastparquet/compression.py:112\u001b[0m, in \u001b[0;36mdecompress_data\u001b[0;34m(data, uncompressed_size, algorithm)\u001b[0m\n\u001b[1;32m    109\u001b[0m \u001b[39mif\u001b[39;00m algorithm\u001b[39m.\u001b[39mupper() \u001b[39min\u001b[39;00m decom_into:\n\u001b[1;32m    110\u001b[0m     \u001b[39m# ensures writable buffer from cramjam\u001b[39;00m\n\u001b[1;32m    111\u001b[0m     x \u001b[39m=\u001b[39m np\u001b[39m.\u001b[39mempty(uncompressed_size, dtype\u001b[39m=\u001b[39m\u001b[39m'\u001b[39m\u001b[39muint8\u001b[39m\u001b[39m'\u001b[39m)\n\u001b[0;32m--> 112\u001b[0m     decom_into[algorithm\u001b[39m.\u001b[39;49mupper()](np\u001b[39m.\u001b[39;49mfrombuffer(data, dtype\u001b[39m=\u001b[39;49mnp\u001b[39m.\u001b[39;49muint8), x)\n\u001b[1;32m    113\u001b[0m     \u001b[39mreturn\u001b[39;00m x\n\u001b[1;32m    114\u001b[0m \u001b[39mreturn\u001b[39;00m decompressions[algorithm\u001b[39m.\u001b[39mupper()](data, uncompressed_size)\n",
      "\u001b[0;31mKeyboardInterrupt\u001b[0m: "
     ]
    }
   ],
   "source": [
    "full = pd.DataFrame()\n",
    "for d, fps in days.items():\n",
    "    winds = canyon.loc[pd.to_datetime(d + 'T00:00:00Z'):pd.to_datetime(d + 'T23:59:00Z'), 'wind_speed_set_1']\n",
    "    d = pd.to_datetime(d)\n",
    "    if d < pd.to_datetime('2022-04-30'):\n",
    "        sd = snotel.loc[d, 'Snow Depth (cm) Start of Day Values']/100\n",
    "        try:\n",
    "            for s, wind_speed in winds.iteritems():\n",
    "                e = s + pd.Timedelta('1 hour')\n",
    "                for h, fp in fps.items():\n",
    "                    if h != 'snotel':\n",
    "                        res = {}\n",
    "                        res['sd_delta'] = [sd - h]\n",
    "                        res['wind'] = [wind_speed]\n",
    "                        arr = freq_filt(pd.read_parquet(fp)[s:e].values.ravel(), 1, kind = 'highpass')\n",
    "                        power = np.sum(arr**2)/arr.size\n",
    "                        res['power'] = [power]\n",
    "                        df = pd.DataFrame(res)\n",
    "                        full = pd.concat([full, df])\n",
    "        except ValueError as e:\n",
    "            print(e)"
   ]
  }
 ],
 "metadata": {
  "kernelspec": {
   "display_name": "Python 3.9.13 ('infra')",
   "language": "python",
   "name": "python3"
  },
  "language_info": {
   "codemirror_mode": {
    "name": "ipython",
    "version": 3
   },
   "file_extension": ".py",
   "mimetype": "text/x-python",
   "name": "python",
   "nbconvert_exporter": "python",
   "pygments_lexer": "ipython3",
   "version": "3.9.13"
  },
  "orig_nbformat": 4,
  "vscode": {
   "interpreter": {
    "hash": "a39a8a2e91d996c3034102a2bac5234ac4ff588e560acca73942b7dd55035c15"
   }
  }
 },
 "nbformat": 4,
 "nbformat_minor": 2
}
