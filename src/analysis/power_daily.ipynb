{
 "cells": [
  {
   "cell_type": "code",
   "execution_count": 1,
   "metadata": {},
   "outputs": [],
   "source": [
    "from obspy import read\n",
    "import numpy as np\n",
    "import pandas as pd\n",
    "from os.path import join, basename\n",
    "from glob import glob\n",
    "import matplotlib.pyplot as plt\n",
    "from tqdm import tqdm"
   ]
  },
  {
   "cell_type": "code",
   "execution_count": 2,
   "metadata": {},
   "outputs": [],
   "source": [
    "ac_calib = 8.2928e-05"
   ]
  },
  {
   "cell_type": "code",
   "execution_count": 3,
   "metadata": {},
   "outputs": [],
   "source": [
    "in_dir = '../../data/banner/infrasound/processed/'\n",
    "# l = os.listdir(in_dir)\n",
    "l = glob(os.path.join(in_dir, 'c0be4*'))\n",
    "r = []\n",
    "for i in l:\n",
    "    i = os.path.basename(i)\n",
    "    j = i[5:11]\n",
    "    if j not in r:\n",
    "        r.append(j)\n",
    "r.sort()"
   ]
  },
  {
   "cell_type": "code",
   "execution_count": 6,
   "metadata": {},
   "outputs": [
    {
     "name": "stderr",
     "output_type": "stream",
     "text": [
      "days: 75it [01:02,  1.19it/s]\n"
     ]
    }
   ],
   "source": [
    "name_dic = {'be4':'lower','a3m':'upper','ad8':'failed array'}\n",
    "height_dic = {'lower-p0':0.33,'lower-p1':0.66,'lower-p2':1,'upper-p0':1.33,'upper-p1':np.nan,'upper-p2':2}\n",
    "full_res = {}\n",
    "for i, day in tqdm(enumerate(r), desc = 'days'):\n",
    "    # if i == 65:\n",
    "        ls = glob(join(in_dir, '*'+day+'*'))\n",
    "        # print(ls)\n",
    "        res = {}\n",
    "        for file in ls:\n",
    "                name = name_dic[basename(file).replace(day,'')[2:5]]\n",
    "                if name != 'failed array':\n",
    "                    tr = read(file)[0]\n",
    "                    stats = tr.stats\n",
    "                    sps = stats['sampling_rate']\n",
    "                    start = stats['starttime']\n",
    "                    end = stats['endtime']\n",
    "                    channel = stats['channel']\n",
    "                    name_channel = f'{name}-{channel}'\n",
    "                    height = height_dic[name_channel]\n",
    "                    if not np.isnan(height):\n",
    "                        arr = tr.data\n",
    "                        arr = arr * ac_calib\n",
    "                        power = arr**2\n",
    "                        energy = np.cumsum(power)[-1]\n",
    "                        res[height] = energy\n",
    "        \n",
    "        full_res[day] = res       \n",
    "                \n",
    "                \n"
   ]
  },
  {
   "cell_type": "code",
   "execution_count": 11,
   "metadata": {},
   "outputs": [],
   "source": [
    "df = pd.DataFrame()\n",
    "for day,v in full_res.items():\n",
    "    for height,energy in v.items():\n",
    "        df.loc[day,height] = energy"
   ]
  },
  {
   "cell_type": "code",
   "execution_count": 14,
   "metadata": {},
   "outputs": [
    {
     "data": {
      "image/png": "[encoded data removed]",
      "text/plain": [
       "<Figure size 432x288 with 1 Axes>"
      ]
     },
     "metadata": {
      "needs_background": "light"
     },
     "output_type": "display_data"
    }
   ],
   "source": [
    "df.plot()\n",
    "plt.yscale('log')"
   ]
  },
  {
   "cell_type": "code",
   "execution_count": null,
   "metadata": {},
   "outputs": [],
   "source": []
  }
 ],
 "metadata": {
  "interpreter": {
   "hash": "a7a29f0fb583541191ee4c3d17dcbc0e94ee611fe7514dfd304d389dc88a47ef"
  },
  "kernelspec": {
   "display_name": "Python 3.8.8 ('temp')",
   "language": "python",
   "name": "python3"
  },
  "language_info": {
   "codemirror_mode": {
    "name": "ipython",
    "version": 3
   },
   "file_extension": ".py",
   "mimetype": "text/x-python",
   "name": "python",
   "nbconvert_exporter": "python",
   "pygments_lexer": "ipython3",
   "version": "3.8.8"
  },
  "orig_nbformat": 4
 },
 "nbformat": 4,
 "nbformat_minor": 2
}
